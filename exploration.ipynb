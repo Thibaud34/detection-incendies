{
 "cells": [
  {
   "cell_type": "markdown",
   "id": "2f95ccb4",
   "metadata": {},
   "source": [
    "# Notebook : Exploration & Nettoyage des données"
   ]
  },
  {
   "cell_type": "markdown",
   "id": "a160cb8a",
   "metadata": {},
   "source": [
    "## 1️⃣ Introduction\n",
    "- **Objectif** : Explorer le dataset d’images satellites et leurs annotations pour identifier anomalies et statistiques.\n",
    "- **Description des fichiers** :\n",
    "  - `_annotations.coco.json` → annotations au format COCO\n",
    "  - Dossier `images/` → images satellites\n"
   ]
  },
  {
   "cell_type": "markdown",
   "id": "1366beb4",
   "metadata": {},
   "source": [
    "## 2️⃣ Chargement des données\n",
    "- Lire le fichier `_annotations.coco.json`\n",
    "- Créer des DataFrames pour :\n",
    "  - `images` → informations sur chaque image\n",
    "  - `annotations` → informations sur les objets annotés\n",
    "  - `categories` → liste des catégories"
   ]
  },
  {
   "cell_type": "code",
   "execution_count": 1,
   "id": "a19458aa",
   "metadata": {},
   "outputs": [
    {
     "data": {
      "text/plain": [
       "(   id  license                                          file_name  height  \\\n",
       " 0   0        1  cl6e1qges001kgk555z158f33_2_FALSE_COLOR_jpg.rf...     860   \n",
       " 1   1        1  cl6kgm9qr002yc455g5qs87kz_2_FALSE_COLOR_jpg.rf...     860   \n",
       " 2   2        1  cl6odzs5e002oao55heuig0a6_1_TRUE_COLOR_jpg.rf....     860   \n",
       " 3   3        1  cl6b6pieh007rl455fwvb73gr_1_TRUE_COLOR_jpg.rf....     860   \n",
       " 4   4        1  cl6b5k38g003zl455bgtd1317_4_FALSE_COLOR__URBAN...     860   \n",
       " \n",
       "    width              date_captured  \\\n",
       " 0   1200  2025-09-14T12:06:19+00:00   \n",
       " 1   1200  2025-09-14T12:06:19+00:00   \n",
       " 2   1200  2025-09-14T12:06:19+00:00   \n",
       " 3   1200  2025-09-14T12:06:19+00:00   \n",
       " 4   1200  2025-09-14T12:06:19+00:00   \n",
       " \n",
       "                                                extra  \n",
       " 0  {'name': 'cl6e1qges001kgk555z158f33_2_FALSE_CO...  \n",
       " 1  {'name': 'cl6kgm9qr002yc455g5qs87kz_2_FALSE_CO...  \n",
       " 2  {'name': 'cl6odzs5e002oao55heuig0a6_1_TRUE_COL...  \n",
       " 3  {'name': 'cl6b6pieh007rl455fwvb73gr_1_TRUE_COL...  \n",
       " 4  {'name': 'cl6b5k38g003zl455bgtd1317_4_FALSE_CO...  ,\n",
       "    id  image_id  category_id                        bbox        area  \\\n",
       " 0   0         1            1  [277, 207, 568.95, 591.79]  336698.921   \n",
       " 1   1         2            1    [800, 0, 157.45, 413.38]   65086.681   \n",
       " 2   2         2            1    [1062, 96, 58.37, 63.91]    3730.427   \n",
       " 3   3         2            1   [452, 442, 410.09, 350.6]  143777.554   \n",
       " 4   4         2            1    [0, 163, 336.16, 375.08]  126086.893   \n",
       " \n",
       "   segmentation  iscrowd  \n",
       " 0           []        0  \n",
       " 1           []        0  \n",
       " 2           []        0  \n",
       " 3           []        0  \n",
       " 4           []        0  ,\n",
       "    id      name supercategory\n",
       " 0   0  wildfire          none\n",
       " 1   1      fire      wildfire)"
      ]
     },
     "execution_count": 1,
     "metadata": {},
     "output_type": "execute_result"
    }
   ],
   "source": [
    "# 2️⃣ Chargement des données\n",
    "\n",
    "# lire le fichier _annotations.coco.json et créer des DataFrames\n",
    "import json\n",
    "import pandas as pd\n",
    "\n",
    "# Chemin vers le fichier d'annotations\n",
    "annotations_file = \"data/_annotations.coco.json\"\n",
    "\n",
    "# Charger le fichier JSON\n",
    "with open(annotations_file, \"r\") as f:\n",
    "    coco_data = json.load(f) #load() lit le fichier JSON et le convertit en dictionnaire Python\n",
    "\n",
    "# Convertir en DataFrames  pandas (faciliter)\n",
    "images_df = pd.DataFrame(coco_data[\"images\"])\n",
    "annotations_df = pd.DataFrame(coco_data[\"annotations\"])\n",
    "categories_df = pd.DataFrame(coco_data[\"categories\"])\n",
    "\n",
    "# Vérifier les premières lignes\n",
    "images_df.head(), annotations_df.head(), categories_df.head()\n"
   ]
  },
  {
   "cell_type": "markdown",
   "id": "b5274c7e",
   "metadata": {},
   "source": [
    "## 3️⃣ Exploration des données\n",
    "- Nombre total d’images\n",
    "- Nombre total d’annotations\n",
    "- Quelles sont les catégories\n",
    "- Nombre d’images par catégorie\n",
    "- Statistiques sur le nombre d’annotations par image"
   ]
  },
  {
   "cell_type": "code",
   "execution_count": 2,
   "id": "53bf811d",
   "metadata": {},
   "outputs": [
    {
     "name": "stdout",
     "output_type": "stream",
     "text": [
      "Nombre total d'images : 500\n",
      "Nombre total d'annotations : 959\n"
     ]
    }
   ],
   "source": [
    "\n",
    "# 3️⃣ Exploration des données\n",
    "\n",
    "# Compter le nombre total d'images et d'annotations(annotation: les objets dans les images)\n",
    "print(\"Nombre total d'images :\", len(images_df))\n",
    "print(\"Nombre total d'annotations :\", len(annotations_df))\n",
    "\n"
   ]
  },
  {
   "cell_type": "code",
   "execution_count": 3,
   "id": "7295b966",
   "metadata": {},
   "outputs": [
    {
     "name": "stdout",
     "output_type": "stream",
     "text": [
      "name\n",
      "fire    493\n",
      "Name: image_id, dtype: int64\n"
     ]
    }
   ],
   "source": [
    "# Nombre d'images par catégorie\n",
    "# Joindre annotations et catégories\n",
    "annotations_with_cat = annotations_df.merge(categories_df, left_on='category_id', right_on='id', how='left')\n",
    "images_per_category = annotations_with_cat.groupby('name')['image_id'].nunique()\n",
    "print(images_per_category)\n"
   ]
  },
  {
   "cell_type": "code",
   "execution_count": 4,
   "id": "0319ce50",
   "metadata": {},
   "outputs": [
    {
     "name": "stdout",
     "output_type": "stream",
     "text": [
      "count    493.000000\n",
      "mean       1.945233\n",
      "std        1.405218\n",
      "min        1.000000\n",
      "25%        1.000000\n",
      "50%        1.000000\n",
      "75%        2.000000\n",
      "max       10.000000\n",
      "dtype: float64\n"
     ]
    }
   ],
   "source": [
    "# Statistiques sur le nombre d'annotations par image (combien d'objets par image, en moyenne, min, max,std: écart-type (c a dire la dispersion des D par rapport à la moyenne)\n",
    "annotations_count = annotations_df.groupby('image_id').size()\n",
    "print(annotations_count.describe())"
   ]
  },
  {
   "cell_type": "markdown",
   "id": "39a81820",
   "metadata": {},
   "source": [
    "## 4️⃣ Vérification des incohérences\n",
    "- Images sans annotations\n",
    "- Annotations sans image correspondante\n",
    "- Valeurs aberrantes dans les annotations (ex : largeur ou hauteur = 0)"
   ]
  },
  {
   "cell_type": "code",
   "execution_count": 5,
   "id": "c12a2ca9",
   "metadata": {},
   "outputs": [
    {
     "name": "stdout",
     "output_type": "stream",
     "text": [
      "Images sans annotations : 7\n"
     ]
    },
    {
     "data": {
      "application/vnd.microsoft.datawrangler.viewer.v0+json": {
       "columns": [
        {
         "name": "index",
         "rawType": "int64",
         "type": "integer"
        },
        {
         "name": "id",
         "rawType": "int64",
         "type": "integer"
        },
        {
         "name": "file_name",
         "rawType": "object",
         "type": "string"
        }
       ],
       "ref": "34a37741-a292-43ca-a26d-2992d20107dc",
       "rows": [
        [
         "0",
         "0",
         "cl6e1qges001kgk555z158f33_2_FALSE_COLOR_jpg.rf.479904c9e54c6ba121689341598bf3ed.jpg"
        ],
        [
         "96",
         "96",
         "cl6kf5xzo000gc4552qc8hhcc_2_FALSE_COLOR_jpg.rf.8fbfb16c6d86076d860904397218acd5.jpg"
        ],
        [
         "118",
         "118",
         "cl6e2kygp002egk55asrs2brz_1_TRUE_COLOR_jpg.rf.2a198a37785242fb6db3ef21c0ffdcad.jpg"
        ],
        [
         "122",
         "122",
         "cl6e3enfn003sgk554uim9wo6_1_TRUE_COLOR_jpg.rf.beaf169c01f4596cb24c1c4628ef21f1.jpg"
        ],
        [
         "209",
         "209",
         "cl6kfx47x001tc45578ts0yz6_2_FALSE_COLOR_jpg.rf.5a9501946306fabdad807a6acb61ccbe.jpg"
        ]
       ],
       "shape": {
        "columns": 2,
        "rows": 5
       }
      },
      "text/html": [
       "<div>\n",
       "<style scoped>\n",
       "    .dataframe tbody tr th:only-of-type {\n",
       "        vertical-align: middle;\n",
       "    }\n",
       "\n",
       "    .dataframe tbody tr th {\n",
       "        vertical-align: top;\n",
       "    }\n",
       "\n",
       "    .dataframe thead th {\n",
       "        text-align: right;\n",
       "    }\n",
       "</style>\n",
       "<table border=\"1\" class=\"dataframe\">\n",
       "  <thead>\n",
       "    <tr style=\"text-align: right;\">\n",
       "      <th></th>\n",
       "      <th>id</th>\n",
       "      <th>file_name</th>\n",
       "    </tr>\n",
       "  </thead>\n",
       "  <tbody>\n",
       "    <tr>\n",
       "      <th>0</th>\n",
       "      <td>0</td>\n",
       "      <td>cl6e1qges001kgk555z158f33_2_FALSE_COLOR_jpg.rf...</td>\n",
       "    </tr>\n",
       "    <tr>\n",
       "      <th>96</th>\n",
       "      <td>96</td>\n",
       "      <td>cl6kf5xzo000gc4552qc8hhcc_2_FALSE_COLOR_jpg.rf...</td>\n",
       "    </tr>\n",
       "    <tr>\n",
       "      <th>118</th>\n",
       "      <td>118</td>\n",
       "      <td>cl6e2kygp002egk55asrs2brz_1_TRUE_COLOR_jpg.rf....</td>\n",
       "    </tr>\n",
       "    <tr>\n",
       "      <th>122</th>\n",
       "      <td>122</td>\n",
       "      <td>cl6e3enfn003sgk554uim9wo6_1_TRUE_COLOR_jpg.rf....</td>\n",
       "    </tr>\n",
       "    <tr>\n",
       "      <th>209</th>\n",
       "      <td>209</td>\n",
       "      <td>cl6kfx47x001tc45578ts0yz6_2_FALSE_COLOR_jpg.rf...</td>\n",
       "    </tr>\n",
       "  </tbody>\n",
       "</table>\n",
       "</div>"
      ],
      "text/plain": [
       "      id                                          file_name\n",
       "0      0  cl6e1qges001kgk555z158f33_2_FALSE_COLOR_jpg.rf...\n",
       "96    96  cl6kf5xzo000gc4552qc8hhcc_2_FALSE_COLOR_jpg.rf...\n",
       "118  118  cl6e2kygp002egk55asrs2brz_1_TRUE_COLOR_jpg.rf....\n",
       "122  122  cl6e3enfn003sgk554uim9wo6_1_TRUE_COLOR_jpg.rf....\n",
       "209  209  cl6kfx47x001tc45578ts0yz6_2_FALSE_COLOR_jpg.rf..."
      ]
     },
     "metadata": {},
     "output_type": "display_data"
    }
   ],
   "source": [
    "# 4.1 Images sans annotations \n",
    "images_with_annotations = annotations_df['image_id'].unique()\n",
    "images_no_annotations = images_df[~images_df['id'].isin(images_with_annotations)] \n",
    "print(\"Images sans annotations :\", len(images_no_annotations)) \n",
    "display(images_no_annotations[['id', 'file_name']].head())"
   ]
  },
  {
   "cell_type": "code",
   "execution_count": 6,
   "id": "9a2c1da2",
   "metadata": {},
   "outputs": [
    {
     "name": "stdout",
     "output_type": "stream",
     "text": [
      "Nombre d'images avec moins de 3 annotations : 386\n",
      "['cl6e1qges001kgk555z158f33_2_FALSE_COLOR_jpg.rf.479904c9e54c6ba121689341598bf3ed.jpg', 'cl6kgm9qr002yc455g5qs87kz_2_FALSE_COLOR_jpg.rf.95debd80b7509cc0a6afe0a7c7ff6cfe.jpg', 'cl6b6pieh007rl455fwvb73gr_1_TRUE_COLOR_jpg.rf.8f3f9c84272e40682f7f430cdc4ac4c0.jpg', 'cl6b5k38g003zl455bgtd1317_4_FALSE_COLOR__URBAN_jpg.rf.fcaa4827b85c1b38fdedffcd6a3b098f.jpg', 'cl6cswt5400gdl4554rn2gjz9_1_TRUE_COLOR_jpg.rf.e410a3d52182432dc9d14d9b24b69cb0.jpg', 'cl6op0cny006bao55hefn0jyf_2_FALSE_COLOR_jpg.rf.de2937d7380d94b2a24472a7744afe9b.jpg', 'cl6op9m80006sao552sp0bgyl_2_FALSE_COLOR_jpg.rf.bee0f2e3b76eaaae3f5309ba40f22e89.jpg', 'cl6ch417300btl4554l143qop_4_FALSE_COLOR__URBAN_jpg.rf.43e72d2d74427093db9424b5a3eae89a.jpg', 'cl6cg6cf600agl455gtin273p_2_FALSE_COLOR_jpg.rf.3c95193dd276836b31dc3df24f29e351.jpg', 'cl6m10x9x00348w55h67q3hes_2_FALSE_COLOR_jpg.rf.746f55b2cb2a94835ebbb485b3715504.jpg', 'cl6kga3590029c455dfqjh4v7_2_FALSE_COLOR_jpg.rf.ef13360dbca3f541099b00a7f79d6a87.jpg', 'cl6b76fnk009dl4556z3y9qgs_4_FALSE_COLOR__URBAN_jpg.rf.4d7112c2a197e6ce3d8764ad0af5d287.jpg', 'cl6okdwy00063ao5588jlcglr_4_FALSE_COLOR__URBAN_jpg.rf.352f082c75435cb06dd2e46d12479419.jpg', 'cl6kg4sfr0026c4552hfe6gtj_4_FALSE_COLOR__URBAN_jpg.rf.2342a2438b262c0e389b20eaddf8c3c2.jpg', 'cl6ocohki0003ao55bnyg99kc_6_SWIR_jpg.rf.0f996164f7e10b4482fd531c9c211f94.jpg', 'cl6ki3fbe00018w55146m86ja_4_FALSE_COLOR__URBAN_jpg.rf.a905168377908ca76ba5a1560a355536.jpg', 'cl6okbxd2005yao551huyeqkl_4_FALSE_COLOR__URBAN_jpg.rf.50a8d3eb02e27c5dce9673c8762102f6.jpg', 'cl6dyvvvc000lhg5533xc480w_4_FALSE_COLOR__URBAN_jpg.rf.7b4e887efe30535ef057f0a9ca071bfd.jpg', 'cl6m1dd0r003o8w5569ma5agl_1_TRUE_COLOR_jpg.rf.8351a94d2d7bc6ea84ad8121c560c869.jpg', 'cl6kfyj4a001wc4558emoaaeq_4_FALSE_COLOR__URBAN_jpg.rf.f4bb8a00db7566082ef5532e62ffc462.jpg', 'cl6e2edx3001ygk554c0h3ubb_4_FALSE_COLOR__URBAN_jpg.rf.3d61f7c8ad5106ce9c2aa3860b2f20db.jpg', 'cl6b0gln2000wl4559wpzdukf_1_TRUE_COLOR_jpg.rf.7f67b50ed7d78ce81f6aac2ca352d755.jpg', 'cl6oqvksq009bao556412da6l_1_TRUE_COLOR_jpg.rf.265a9c01b3c08b3b6f3bca283a6109c3.jpg', 'cl6cs8jie00f5l4555hn76aj1_6_SWIR_jpg.rf.7cdd3f4c7d935ad234885da22160d3b7.jpg', 'cl6b57brh002ll4555o3te631_6_SWIR_jpg.rf.c7fd68b8839fa2e7afcb6b41fa31d332.jpg', 'cl6ct4zi700gvl455hd187an6_1_TRUE_COLOR_jpg.rf.c32aa601f010ec224bcb120239a61104.jpg', 'cl6e1zx08001pgk554gv1bhpt_1_TRUE_COLOR_jpg.rf.f16c3ec722ec9dc85bfd576853d2975b.jpg', 'cl6oe0eoe002qao552t6i1m6g_4_FALSE_COLOR__URBAN_jpg.rf.c26b96a42fbf6ed14d96683ad1701b73.jpg', 'cl6op2fce006fao55753l8ulj_6_SWIR_jpg.rf.7e8764944bad6000aa34611ac74ca3ba.jpg', 'cl6b6sfee007xl455b8bt5zum_1_TRUE_COLOR_jpg.rf.a921f3be3f70ab5d36b15ac7b3721085.jpg', 'cl6op4t8q006jao559muv9l5l_2_FALSE_COLOR_jpg.rf.d0eac7b7bc3a29b59a5da91316b541c0.jpg', 'cl6cs5j5d00exl455afqp4ysw_6_SWIR_jpg.rf.27c23cbdffecb44114f96e8b7514f120.jpg', 'cl6b6rmls007ul455clqha4p0_1_TRUE_COLOR_jpg.rf.c706e724b982cc61451904c2da58f1a9.jpg', 'cl6cho7a000cil455fiddgkjj_6_SWIR_jpg.rf.c1282e35ab10c5974e2cf5a9378bdb65.jpg', 'cl6e34bti0037gk55gzdv0akr_1_TRUE_COLOR_jpg.rf.d5bef0822d1f990994eab5089cde272c.jpg', 'cl6e34bti0037gk55gzdv0akr_6_SWIR_jpg.rf.832dd04dfc59c9fe95a36dd61b1fc76c.jpg', 'cl6b5k38g003zl455bgtd1317_2_FALSE_COLOR_jpg.rf.1ec92bba97779ebd5ac1419db904e242.jpg', 'cl6cgkn5000b6l455cg451vw6_2_FALSE_COLOR_jpg.rf.349b983f5f80cd6cd24ea6105b958483.jpg', 'cl6oqq4r40096ao557h69gx2o_2_FALSE_COLOR_jpg.rf.fcdbaf87b09e10e425d48710af7d5c39.jpg', 'cl6b7ep9100a4l455h3w9fstk_2_FALSE_COLOR_jpg.rf.4f2747c68fd470403fcec0900ad7559d.jpg', 'cl6m1fco6003v8w558h0s1dhz_4_FALSE_COLOR__URBAN_jpg.rf.39e3021237a9a84b196a3ce0eeede01d.jpg', 'cl6ctopvo00i4l455cgtw30dd_2_FALSE_COLOR_jpg.rf.3befac1dba28baf207b23aacd3b4e9ac.jpg', 'cl6chw5x300csl455fwv6g4li_2_FALSE_COLOR_jpg.rf.cdbbfd775d062a541882636c2437206b.jpg', 'cl6e2uo3r002kgk556io96bkr_6_SWIR_jpg.rf.e3b5866638f1f9fd28ddfdf0b7191a27.jpg', 'cl6kjc5r500168w55bry741c1_4_FALSE_COLOR__URBAN_jpg.rf.87277927432c3b5a8ad0114a48c02d80.jpg', 'cl6b77933009jl4554y5l30h3_6_SWIR_jpg.rf.17d4112c4bc6739b034ced139cd8e5a5.jpg', 'cl6b78q1y009sl455ekwc1jfp_1_TRUE_COLOR_jpg.rf.92ebe9452b2cdcf4ae4701102a55bd98.jpg', 'cl6ltopha002n8w5531cg4sky_6_SWIR_jpg.rf.11acd1712844c811f1b078454f199f84.jpg', 'cl6b6vihd0086l4553gmk0011_2_FALSE_COLOR_jpg.rf.155496cce064167283541a8c4a3ddec7.jpg', 'cl6b5dtwl003gl455a4x29a1d_1_TRUE_COLOR_jpg.rf.1c86bc5f19ec6e59b465b2bbac9161b1.jpg', 'cl6opx5vv0082ao55dx8j73xn_1_TRUE_COLOR_jpg.rf.ff74a7f91077661ec3a5e3e463cda851.jpg', 'cl6odfk31001qao557bfi78e5_4_FALSE_COLOR__URBAN_jpg.rf.ee2a96a284dcadbe409e5bad1816a25a.jpg', 'cl6e0dypj000qgk55gndm8q3o_6_SWIR_jpg.rf.68ab662c1d9a2de15cc87c7e50dd33ea.jpg', 'cl6b5q3z4004ll45585wq8rtu_2_FALSE_COLOR_jpg.rf.b93360b47e1a3b5619b858e01dbaf716.jpg', 'cl6ojevvt004uao55432mcnea_6_SWIR_jpg.rf.ac9d8ec6cc1476f98470e302c9f8945f.jpg', 'cl6ocun81000iao55010uhpce_4_FALSE_COLOR__URBAN_jpg.rf.5210f764454f840bc10bf80e5016cea9.jpg', 'cl6cgg5np00b0l455enz77l37_4_FALSE_COLOR__URBAN_jpg.rf.40cd702cc8b043289ca3fc393fabe3ef.jpg', 'cl6ojvzs90058ao55ddizcpuh_2_FALSE_COLOR_jpg.rf.e85b48782ef781d6a141843203abbaed.jpg', 'cl6cgh0lk00b3l455a01o4mrg_2_FALSE_COLOR_jpg.rf.8b38adc9c8df2b75e1b3632cd6bc6912.jpg', 'cl6b6gdyh0079l4555ka0g84o_1_TRUE_COLOR_jpg.rf.1b70be6a6e92d72b441c4e5bff1f6b4d.jpg', 'cl6cti5zm00hrl4555pdk0ef9_2_FALSE_COLOR_jpg.rf.8a4207fdf127660cdc175b12a7fccef2.jpg', 'cl6b6p96a007ql455cvrh6peg_6_SWIR_jpg.rf.c9f11f0281ee9e5699b728418acd524d.jpg', 'cl6b56nh5002jl4551m23gtf9_1_TRUE_COLOR_jpg.rf.7d001a91d6df1d09828ca7c97e89c58b.jpg', 'cl6b5qhgi004ml4554fwj59ku_2_FALSE_COLOR_jpg.rf.f2becfdadd89f46560f6e995b220149f.jpg', 'cl6chmuyr00cfl455hd0u03x9_2_FALSE_COLOR_jpg.rf.94e376a122ea5e60615032bf8564067f.jpg', 'cl6e0kgem0014gk55cl4692g7_6_SWIR_jpg.rf.75d367e9586bed46241148c1105975ec.jpg', 'cl6b75qhp0098l455giwk7bva_1_TRUE_COLOR_jpg.rf.a94ba5968034dec9b73c7dbe480dc089.jpg', 'cl6ctbgwv00hel455fxql5pdm_4_FALSE_COLOR__URBAN_jpg.rf.fe9130528f5da6efbe387865fd6649e9.jpg', 'cl6b6xnlo008dl455ft678vcm_1_TRUE_COLOR_jpg.rf.7de7f22e4d7f43603fc77d24156c207c.jpg', 'cl6b0cqup000ql4558m8y8a8t_4_FALSE_COLOR__URBAN_jpg.rf.1c5781c5e69bc219c997c5925946f18d.jpg', 'cl6b7263q008rl455cbp6ejbc_2_FALSE_COLOR_jpg.rf.1568b2fbf7b7b0778bd5ef6a743c18f8.jpg', 'cl6lsukwg001t8w556kieb72f_4_FALSE_COLOR__URBAN_jpg.rf.0500c165c71af53fe68b9b2c4daa441b.jpg', 'cl6oplsq0007fao556ul723tq_2_FALSE_COLOR_jpg.rf.94a095f4ae3f57df0997e3450c2bea9d.jpg', 'cl6kf5xzo000gc4552qc8hhcc_2_FALSE_COLOR_jpg.rf.8fbfb16c6d86076d860904397218acd5.jpg', 'cl6ophgti0078ao557twhfw8d_4_FALSE_COLOR__URBAN_jpg.rf.7def477324832ea282c6fc4c29ca7ca8.jpg', 'cl6kfzb24001zc4555e770ib2_1_TRUE_COLOR_jpg.rf.3f2075aeb29d375dfccd06842e01369a.jpg', 'cl6e1icq8001agk55c0pe3e5b_4_FALSE_COLOR__URBAN_jpg.rf.a7200e9f167ade98b5f50ee1bbebe711.jpg', 'cl6chmuyr00cfl455hd0u03x9_1_TRUE_COLOR_jpg.rf.a4aad918213a396e717e044bfac537b9.jpg', 'cl6b035dn0002l455hbmqcima_4_FALSE_COLOR__URBAN_jpg.rf.d884d31834bb767707a1616dfb807d00.jpg', 'cl6oq0cpr008bao553vg485hd_1_TRUE_COLOR_jpg.rf.172a1e9f92965be21ec3ed833c68530e.jpg', 'cl6oimia5003dao558osp4mxe_1_TRUE_COLOR_jpg.rf.f20e51ab0ee966bbec0be1bceb83e2f4.jpg', 'cl6oilbwz003bao55ayyaeiti_6_SWIR_jpg.rf.55836ac19fe4201247dafafa8d8862ca.jpg', 'cl6kgo2ff0031c455dv515gju_4_FALSE_COLOR__URBAN_jpg.rf.b2f2f53a17388b5f08885effd9a4e706.jpg', 'cl6oul0ve00axao5549vy6mom_4_FALSE_COLOR__URBAN_jpg.rf.456734966fb731d2ec99eb9959327034.jpg', 'cl6odm3oj0023ao55641s046f_2_FALSE_COLOR_jpg.rf.42e989097fe2f68f01f38c1175b8c8cc.jpg', 'cl6e3gmqp0040gk55gklf0ka1_2_FALSE_COLOR_jpg.rf.e1d823b926ba664e4d2658c7c58b2915.jpg', 'cl6oqlhh6008zao55gago04ul_2_FALSE_COLOR_jpg.rf.b5fb95dcd6fdd2086ada9d253bd1dc04.jpg', 'cl6b05bia0009l4551ymod0pi_2_FALSE_COLOR_jpg.rf.92c20d730f7ec80ca1b4a3956f62f251.jpg', 'cl6op6nll006lao553d190xdf_2_FALSE_COLOR_jpg.rf.676cdbce511f842ca009b87eecc61241.jpg', 'cl6dywrm9000mhg55c48n2wtt_6_SWIR_jpg.rf.b1a38587851b623506ac63c99efc6942.jpg', 'cl6b5phba004il45531lb6655_1_TRUE_COLOR_jpg.rf.86182cb796ffdd1d52c0540e0e05b4cc.jpg', 'cl6ojv5dx0056ao557rpa0ljr_2_FALSE_COLOR_jpg.rf.e62e4cd6da325f259c3e6b98c8f16dd1.jpg', 'cl6e2kygp002egk55asrs2brz_1_TRUE_COLOR_jpg.rf.2a198a37785242fb6db3ef21c0ffdcad.jpg', 'cl6azt6by0000go55h4io4tab_2_FALSE_COLOR_jpg.rf.7bd6bf61c42f8477a59d290789795964.jpg', 'cl6dypwru000chg559pvqei5w_1_TRUE_COLOR_jpg.rf.4b5d1b454cee4e4f04b8f6b281127935.jpg', 'cl6e3enfn003sgk554uim9wo6_1_TRUE_COLOR_jpg.rf.beaf169c01f4596cb24c1c4628ef21f1.jpg', 'cl6e1icq8001agk55c0pe3e5b_2_FALSE_COLOR_jpg.rf.bde105352e572fababd4882d57cd8ee3.jpg', 'cl6cgg5np00b0l455enz77l37_2_FALSE_COLOR_jpg.rf.687887aaed332f84b7c0fd77e3a1d3ef.jpg', 'cl6ou72e300a7ao55ham55bxa_1_TRUE_COLOR_jpg.rf.5fb071ea6eacd8d0b49cdf574f4cdaa6.jpg', 'cl6ct6g9a00gzl4555brigazi_4_FALSE_COLOR__URBAN_jpg.rf.5c007df412a0da258d50d03ae471057e.jpg', 'cl6kgfdjy002nc4551yk01nj6_1_TRUE_COLOR_jpg.rf.aece6769ff85659506ec8fb96b385955.jpg', 'cl6kj4ybe000p8w554ytea5li_6_SWIR_jpg.rf.db9bdb5770985cc1c7452e50339d4ad4.jpg', 'cl6e0c4x3000ngk55c47nhbiz_6_SWIR_jpg.rf.805c839bbcaddceea16f45bf37533000.jpg', 'cl6kgnh9k0030c455dtnabosj_1_TRUE_COLOR_jpg.rf.719d4160fed64e1c0f7d077b93c408ad.jpg', 'cl6e20f48001rgk5574xt82w3_2_FALSE_COLOR_jpg.rf.24395424307134ba19fc86b6ee59b2e7.jpg', 'cl6e2iu9v0027gk55e8cfax9f_2_FALSE_COLOR_jpg.rf.771e429f20da6dabceb7f68a5aa3152b.jpg', 'cl6b5zvva005tl455617x069k_1_TRUE_COLOR_jpg.rf.8fddaebfe3bf528542a6bb93a8a4ba56.jpg', 'cl6odgxwb001tao559phvfhb7_2_FALSE_COLOR_jpg.rf.a3541b77ef69ffcbbb68c2679bf140b5.jpg', 'cl6cstc5x00g7l455ec9d32eh_2_FALSE_COLOR_jpg.rf.5470b6259acf151a88a7f5c374fb865b.jpg', 'cl6b5m4w10045l4550bi9ea2d_2_FALSE_COLOR_jpg.rf.5a23fb88520b394760f70a877d4faa0e.jpg', 'cl6oj3q5x004aao55ala51kbg_4_FALSE_COLOR__URBAN_jpg.rf.7234b0197e9bd566e5a618690ef769ab.jpg', 'cl6opc9oz006zao552eyx63jq_6_SWIR_jpg.rf.76de8b1ec7f1aeb69a59748d8a8c9207.jpg', 'cl6e2edx3001ygk554c0h3ubb_2_FALSE_COLOR_jpg.rf.277a9902d759d421fcfae391c5b9c1a3.jpg', 'cl6cg6cf600agl455gtin273p_6_SWIR_jpg.rf.72f07b56c577386346fbe7021acc443c.jpg', 'cl6ocohki0003ao55bnyg99kc_4_FALSE_COLOR__URBAN_jpg.rf.1268ae68f91a4c4a73941c9b9640fa9a.jpg', 'cl6cgm3hm00bal455ei1ken8s_1_TRUE_COLOR_jpg.rf.1a3ff69dd97b6f1dc1743cd4c0db584d.jpg', 'cl6cgl1e600b7l455b4k067pe_1_TRUE_COLOR_jpg.rf.368b310764443e76767793eb11b0cc82.jpg', 'cl6kfrfmx001hc455cbojhgeb_1_TRUE_COLOR_jpg.rf.06641a0ddbcb7d3b264dfcba6ca41372.jpg', 'cl6ojbg9t004oao552glqe340_2_FALSE_COLOR_jpg.rf.5430eb0caaae90ba41e84b623c3726db.jpg', 'cl6m1bogh003h8w553evr8lfd_4_FALSE_COLOR__URBAN_jpg.rf.5a61d0979104f21b6bb376259cd24240.jpg', 'cl6e2g24k0020gk55d7nlgq0h_1_TRUE_COLOR_jpg.rf.b9e53ba98178cbb61cf1f28a92d5480d.jpg', 'cl6keyw310001c4551ugx15q5_4_FALSE_COLOR__URBAN_jpg.rf.d3371c057d7fef8486fe692a5e9141f8.jpg', 'cl6m0whp000308w555xk5cwij_1_TRUE_COLOR_jpg.rf.c39d217c7dfdf6208338433504804ff1.jpg', 'cl6odge0x001sao551k414izu_4_FALSE_COLOR__URBAN_jpg.rf.68da4cd1ea095ce761dc5ab6fe097edf.jpg', 'cl6ch6y2d00byl4557ijbc6o4_4_FALSE_COLOR__URBAN_jpg.rf.00f8770027448a54180d8716b6b64f26.jpg', 'cl6opowct007kao55518p0qp4_4_FALSE_COLOR__URBAN_jpg.rf.5e0fb337cbca043bafc5bce7c24fa796.jpg', 'cl6cgw2be00bnl455cetv4inw_6_SWIR_jpg.rf.9ff585b96d534d0824a3896096a0c74b.jpg', 'cl6kgmrej002zc455a27d973q_4_FALSE_COLOR__URBAN_jpg.rf.5885b70c7b3b3dafd9806852b4e76ec5.jpg', 'cl6odk9yf001wao558oys61c5_4_FALSE_COLOR__URBAN_jpg.rf.04d7346dab2b1b12261db04fbe84ec6e.jpg', 'cl6m17r53003b8w55c0zsgjie_4_FALSE_COLOR__URBAN_jpg.rf.0e0e305fb9dd82c08f456f3a69fa1f51.jpg', 'cl6ct2hu900grl455hdde142n_4_FALSE_COLOR__URBAN_jpg.rf.f5086b4ced8fcaa27ce46922d0004363.jpg', 'cl6kgo2ff0031c455dv515gju_2_FALSE_COLOR_jpg.rf.1f42b289e2c8d87a320a2b3b49ba65a5.jpg', 'cl6dyeg510004hg554xxs8aux_1_TRUE_COLOR_jpg.rf.5f7f56d5c624ab8c85fdd5b5785d421c.jpg', 'cl6opag1s006tao55h8pkceie_1_TRUE_COLOR_jpg.rf.0aa351f726f716cdff50ddae440c921f.jpg', 'cl6lt50lf00278w555isdaowx_6_SWIR_jpg.rf.38c24d681604400240108adc91a08717.jpg', 'cl6b542k6002bl455fmydcwlb_2_FALSE_COLOR_jpg.rf.21a4cff766bca0e29ad540511acea32d.jpg', 'cl6kjizzk001l8w550s1uej5w_2_FALSE_COLOR_jpg.rf.ef3cf69daa6ee8e6e02e683e0aae8809.jpg', 'cl6m0whp000308w555xk5cwij_2_FALSE_COLOR_jpg.rf.4c7f2876d41823704290c7ba17c9b1ae.jpg', 'cl6b6l171007kl4552zfu0hh5_1_TRUE_COLOR_jpg.rf.742cc3d06e92c2bf297ec516c01f0937.jpg', 'cl6azt6by0000go55h4io4tab_6_SWIR_jpg.rf.f8a793559d8103b9c237ca96944514b5.jpg', 'cl6odxshy002kao554h0tez0a_6_SWIR_jpg.rf.59fcbf7ef586daeb6c08d5f5b27d5ae6.jpg', 'cl6b7gtl200aal4552nve0ap1_2_FALSE_COLOR_jpg.rf.c871b0359698a70abce45a40f6bb117e.jpg', 'cl6kgidey002uc455a3qe2ark_1_TRUE_COLOR_jpg.rf.1db5657ebb196420d977a593d4cbbc11.jpg', 'cl6b04t8r0007l455fk4y4zr0_4_FALSE_COLOR__URBAN_jpg.rf.b6843b74612a6fab1432b3c7d8f0780f.jpg', 'cl6oq9ozh008nao5591t079g1_4_FALSE_COLOR__URBAN_jpg.rf.6c26670ade9335a2ad7af64dbf3806ed.jpg', 'cl6b6h5fo007bl455669md4vp_4_FALSE_COLOR__URBAN_jpg.rf.422f3c9e4caef71972de10acb5065019.jpg', 'cl6orlxem009lao5513o7hr6s_1_TRUE_COLOR_jpg.rf.e31d2ea1528b15c13434afbf3f41b125.jpg', 'cl6csiins00fgl45562qya3h6_1_TRUE_COLOR_jpg.rf.4f0023de84a5dd3d39fe129b7ee997dd.jpg', 'cl6cpff5c00dll455ew1ddl1f_1_TRUE_COLOR_jpg.rf.cbcb617570e3672bd266ec946e1ea139.jpg', 'cl6chonxj00cjl455bqcs1fnt_2_FALSE_COLOR_jpg.rf.277d09c72f7ed781018abde75c573111.jpg', 'cl6b6op7a007ol455fvvv6g4a_6_SWIR_jpg.rf.4926076997caf8669df1f851efeae7e6.jpg', 'cl6b6zaju008ll455bbu9506q_6_SWIR_jpg.rf.a067497ccc38cfcb2e510cab67d33595.jpg', 'cl6e0mv1s0017gk5595j92i2d_4_FALSE_COLOR__URBAN_jpg.rf.d1e221b1a9a28c9ba9318854955beb67.jpg', 'cl6chvqmw00crl455dq182jri_4_FALSE_COLOR__URBAN_jpg.rf.deb3d54d5111a454387e6bfd2c15228b.jpg', 'cl6opbnv8006xao55hbpe2j2u_1_TRUE_COLOR_jpg.rf.a322c310c87b9b2b0dd656c0db4e6c91.jpg', 'cl6b5j7l8003yl455e8lo7mre_1_TRUE_COLOR_jpg.rf.8f930a8cb776e1fc115101a746a03689.jpg', 'cl6azgmfw0004f0557iqa1usw_6_SWIR_jpg.rf.0f5204c03b972113e76c964eada21109.jpg', 'cl6kg12gd0022c4555fac0sms_2_FALSE_COLOR_jpg.rf.e506d912edb520ae8e29faac6125e931.jpg', 'cl6kgeqar002lc455akv50au4_2_FALSE_COLOR_jpg.rf.cc30b23aec838a549eeb61aeb281a5f9.jpg', 'cl6cgs3qs00bil4551v5n3v2h_2_FALSE_COLOR_jpg.rf.dfd038db2b2cc23577079525dec70528.jpg', 'cl6dyeg510004hg554xxs8aux_6_SWIR_jpg.rf.375714af6c9f8fa9fb5423c7dbcea6cc.jpg', 'cl6b5i94f003ul455dplv6fmu_6_SWIR_jpg.rf.f9f02363db3c3db2c396aa67378922e7.jpg', 'cl6b752w00095l45532llequj_1_TRUE_COLOR_jpg.rf.327a752c2e51b28cc6c0156d0484ccde.jpg', 'cl6kfoffk0016c455cvxsalj2_4_FALSE_COLOR__URBAN_jpg.rf.0bef427a51301563a39437db508e1b72.jpg', 'cl6oizoxx0041ao55csrr4whh_4_FALSE_COLOR__URBAN_jpg.rf.de817a7270724a3d4e58887147bd175c.jpg', 'cl6kfx47x001tc45578ts0yz6_2_FALSE_COLOR_jpg.rf.5a9501946306fabdad807a6acb61ccbe.jpg', 'cl6ouiflj00apao55ef14ha2q_6_SWIR_jpg.rf.847b99640495bcb4aa215b63c1c3cde6.jpg', 'cl6b6xs0d008el455cvd92nt5_6_SWIR_jpg.rf.035c96be1fff7d392e5e43e386c271f1.jpg', 'cl6cho7a000cil455fiddgkjj_1_TRUE_COLOR_jpg.rf.0dfc3b0e34820438b66e6ff0ba1dbe2f.jpg', 'cl6lsygs2001w8w551eungans_1_TRUE_COLOR_jpg.rf.54a6883266fd70f4a483a1d6ed11e2b9.jpg', 'cl6e0c4x3000ngk55c47nhbiz_2_FALSE_COLOR_jpg.rf.f5b8f6b5940529cca841638d51939237.jpg', 'cl6kgcddp002gc455ekvaehyc_2_FALSE_COLOR_jpg.rf.cc2eb5a05bb1c0c8555576917ac877fe.jpg', 'cl6cs0euj00egl455918xdqll_1_TRUE_COLOR_jpg.rf.fec2fff5707fc21c8aa9d29c3e14f5db.jpg', 'cl6cs8jie00f5l4555hn76aj1_2_FALSE_COLOR_jpg.rf.d83bff9a3317d11e6db58f9a45a26816.jpg', 'cl6b67dvg006dl455cgxl9kq8_6_SWIR_jpg.rf.128b5aecb2220f2fa5c185b9e54bd0fb.jpg', 'cl6oijbft0037ao558i012jhh_2_FALSE_COLOR_jpg.rf.1a767327bd584e7865838b362acdbf85.jpg', 'cl6b6h5fo007bl455669md4vp_1_TRUE_COLOR_jpg.rf.2a3317b1042bda5ae825c7683a9d65bb.jpg', 'cl6odoepa0028ao554gdxhnyo_1_TRUE_COLOR_jpg.rf.97b0cd83ab8fc9eff094564e62ac032e.jpg', 'cl6ctjyc600hul455hxis4621_2_FALSE_COLOR_jpg.rf.e65f0d03101942da33a9ff69d4ba938e.jpg', 'cl6b03sa00004l4555k7m3d9h_2_FALSE_COLOR_jpg.rf.ff06f8d5665b3485544ff4b57022f5a4.jpg', 'cl6odx8ff002jao5531b01e4o_4_FALSE_COLOR__URBAN_jpg.rf.8c7ddf00bbfce8db3112595957495165.jpg', 'cl6b029x70000l4556t6r3w8m_4_FALSE_COLOR__URBAN_jpg.rf.5d53d7a53c7694fe5f90bc8ad1aec23c.jpg', 'cl6cgs3qs00bil4551v5n3v2h_6_SWIR_jpg.rf.31d70fcbaab32757a389c37c32a264f9.jpg', 'cl6cgah3400anl4554lg2hxzy_1_TRUE_COLOR_jpg.rf.14f3e09cac34f3f98d3191416add10d7.jpg', 'cl6oj0ggm0043ao55acihdj7s_2_FALSE_COLOR_jpg.rf.5ceafad2a989e00d5f32f3d465f72f35.jpg', 'cl6opthke007tao557hsthpgq_6_SWIR_jpg.rf.604fa331ba70d0a1306d2e9281204764.jpg', 'cl6kjm7cv001r8w55czzsenxh_2_FALSE_COLOR_jpg.rf.96f98bd41b3564674cee2f2aaa162515.jpg', 'cl6e20np5001sgk555chada9l_1_TRUE_COLOR_jpg.rf.c8e0c5725013c16308e93f9622c8c7d3.jpg', 'cl6kfowty0017c455b591d008_1_TRUE_COLOR_jpg.rf.ee3c5e5c682214ad0e0d91e6930b570b.jpg', 'cl6m1ebtk003r8w557razf73c_1_TRUE_COLOR_jpg.rf.1d28f6f2c9fe353d562a971198c2b123.jpg', 'cl6az56oy0003f05554mh92wy_2_FALSE_COLOR_jpg.rf.80849284d2ee075dcfd0d457f4c20b7a.jpg', 'cl6orq40w009vao552t868lax_2_FALSE_COLOR_jpg.rf.7f192c7591e8a3f6715b81a22cd4b701.jpg', 'cl6kgag2y002ac455g3l427ic_4_FALSE_COLOR__URBAN_jpg.rf.dcfb648b0d4277fcb2e240705a5b422f.jpg', 'cl6e09hxf000hgk559x18fvg8_1_TRUE_COLOR_jpg.rf.4bad2d8b298e825dd87c4ebb94d5fab5.jpg', 'cl6ltphn6002o8w55a78j55fa_4_FALSE_COLOR__URBAN_jpg.rf.15f2419aa86f5f636fe86bca7708f212.jpg', 'cl6b5wl3u005gl455fljch2g9_6_SWIR_jpg.rf.3e1c521895ae0351b839d38c16c2e44d.jpg', 'cl6b75qhp0098l455giwk7bva_4_FALSE_COLOR__URBAN_jpg.rf.3d6853f78cfcd17e1029d19083bcbdb0.jpg', 'cl6e0kgem0014gk55cl4692g7_1_TRUE_COLOR_jpg.rf.d47055293ccf936f71eb03a282b643b4.jpg', 'cl6b64hpf0066l4555lt3czhh_4_FALSE_COLOR__URBAN_jpg.rf.9708ab4cc3223e0de7d63bbe1f526b8b.jpg', 'cl6cs5j5d00exl455afqp4ysw_4_FALSE_COLOR__URBAN_jpg.rf.f5968b5baec72c54ed2817be2aa1fb7e.jpg', 'cl6b5u0en0054l4551vpacdoj_1_TRUE_COLOR_jpg.rf.fe51b30e3bbe4494c93fa97591e6cd0a.jpg', 'cl6b53k570029l45574z79k7e_2_FALSE_COLOR_jpg.rf.fe513cd92aab85819db299ec9fb7939d.jpg', 'cl6odgxwb001tao559phvfhb7_4_FALSE_COLOR__URBAN_jpg.rf.256adbc8831a5c00de27de62aaed7ff8.jpg', 'cl6cguk2800bml4556lfx35kx_2_FALSE_COLOR_jpg.rf.c00397ac5bd0e1323da8f3791e8400fe.jpg', 'cl6dyiwx60009hg55freo14hg_4_FALSE_COLOR__URBAN_jpg.rf.bb532a7dd155f6626c1a25d57f925813.jpg', 'cl6csnj9g00ftl4554f0z30lc_4_FALSE_COLOR__URBAN_jpg.rf.49569ed8c28ec3869a9e55dfd7f90397.jpg', 'cl6oct90r000fao553xkha255_2_FALSE_COLOR_jpg.rf.d6d86d9870d1a9f114f0b02ad0f9aedd.jpg', 'cl6e2n2tv002hgk553va60g50_1_TRUE_COLOR_jpg.rf.75734485005ac950cbb10aae5402cb76.jpg', 'cl6dzs6a4000vhg55f52u2xze_2_FALSE_COLOR_jpg.rf.3d85b3175023ede04678d8a708055a7b.jpg', 'cl6m10ni200338w553m5pf9l5_1_TRUE_COLOR_jpg.rf.aba7991f3bcf60f90b24b03a9c2e429d.jpg', 'cl6kfy9v8001vc4559ubi2rde_4_FALSE_COLOR__URBAN_jpg.rf.60420da5ccf8e1e4e24ff6193348be17.jpg', 'cl6oct90r000fao553xkha255_1_TRUE_COLOR_jpg.rf.3458190dccf4775d0b2e824a8e3d2e75.jpg', 'cl6oe1f0u002sao550ab86ndb_1_TRUE_COLOR_jpg.rf.1804fe724ab7abed6f3adaff1a5995ae.jpg', 'cl6cgw2be00bnl455cetv4inw_2_FALSE_COLOR_jpg.rf.e7eb23a8f2e3a9e050740e78e8457c2b.jpg', 'cl6b5uskz0058l455gbd534lm_4_FALSE_COLOR__URBAN_jpg.rf.704db007a472c6e7396d277383c0dfe2.jpg', 'cl6cgbyeo00aql455eui3fiu4_1_TRUE_COLOR_jpg.rf.0b8e1982479c781a18740d7fd0160c36.jpg', 'cl6kez8j70002c455axv68ulf_1_TRUE_COLOR_jpg.rf.5ab626fcd9f1f8d03141fbce7c4d2fda.jpg', 'cl6e0dbw9000pgk55cv1sgp5x_1_TRUE_COLOR_jpg.rf.049fb46a294a4647ce0018cafe44851a.jpg', 'cl6kfbq11000yc45577e7e4bg_1_TRUE_COLOR_jpg.rf.c8c9d7c11989ad75fba7ee813467b034.jpg', 'cl6ocozkd0004ao55e5fq7tfw_4_FALSE_COLOR__URBAN_jpg.rf.555ed6d49211ce13162167f59dab1746.jpg', 'cl6lt70fh00298w5541ighy5t_4_FALSE_COLOR__URBAN_jpg.rf.7ccc6d833327bb0baa7aa11bd6b9d7a1.jpg', 'cl6kgm9qr002yc455g5qs87kz_4_FALSE_COLOR__URBAN_jpg.rf.0554aa78bc92fb2e6fbd671e4952c21f.jpg', 'cl6oiv12w003uao55arup9ca6_6_SWIR_jpg.rf.5eb7a8cdcd70e5753e2a286ed3e1b925.jpg', 'cl6b08qce000hl455fod5abjo_1_TRUE_COLOR_jpg.rf.3ac00fb7f706d7cf6cb843ea384fbd26.jpg', 'cl6b5x63r005il4551chxdt93_2_FALSE_COLOR_jpg.rf.8c4fb06b6812031edb1ad781ec14d2b9.jpg', 'cl6b7ep9100a4l455h3w9fstk_4_FALSE_COLOR__URBAN_jpg.rf.42f76795d8cc4c0a786da759dd334cb6.jpg', 'cl6ojbg9t004oao552glqe340_1_TRUE_COLOR_jpg.rf.537df0a4cd6f7c528f9293ccb4d08783.jpg', 'cl6kjfsd8001d8w55e6ne0oyo_1_TRUE_COLOR_jpg.rf.841ddd167686a09b6dcee75bf59ce195.jpg', 'cl6ou6f7u00a5ao55h96m1hvj_2_FALSE_COLOR_jpg.rf.604d5ba40c6721f36646151d9b8216d0.jpg', 'cl6oui3xy00aoao55d29e9vlz_4_FALSE_COLOR__URBAN_jpg.rf.75cb4ab2e4d84a20ae05d606f0cd9f7e.jpg', 'cl6cgsj2300bjl4556rjk0yap_1_TRUE_COLOR_jpg.rf.5a5429214847a7ced132367d07c16c0c.jpg', 'cl6b0okeb001fl455fgue1wrj_1_TRUE_COLOR_jpg.rf.3036ca102003e03d9b3f564e36d24d18.jpg', 'cl6odwuqk002iao555zzv0c59_1_TRUE_COLOR_jpg.rf.7515a109b70f8d66aad0623c9eeddef7.jpg', 'cl6odm3oj0023ao55641s046f_4_FALSE_COLOR__URBAN_jpg.rf.e06b1ddebe1889e272bf11bcd8220072.jpg', 'cl6cta0z600h9l455cygudh3w_4_FALSE_COLOR__URBAN_jpg.rf.5a899bce198e041112d96b0302d74292.jpg', 'cl6b0czhh000rl4555uf846qc_4_FALSE_COLOR__URBAN_jpg.rf.4d22f494704ece92b8a36f855f77bffe.jpg', 'cl6ou8fz600abao5561sobj5z_1_TRUE_COLOR_jpg.rf.1ff7bea9ba4b1da2adb2975211554bc8.jpg', 'cl6b5f0o3003ll4553yz85s0u_2_FALSE_COLOR_jpg.rf.445d01ea4ecb4daf88fc55dbab1364a1.jpg', 'cl6e07sbz000dgk556f1cemmc_6_SWIR_jpg.rf.b19bab12800875f90f051f5574fcb69c.jpg', 'cl6oq2n1i008fao551fa07saw_1_TRUE_COLOR_jpg.rf.c24eb4b17e82d3b56366b170b0b1f25d.jpg', 'cl6azvz950000t0552g8v22is_1_TRUE_COLOR_jpg.rf.9324abe7caa6850140e03d5454f3abb4.jpg', 'cl6e2m95l002ggk55a3eefylp_6_SWIR_jpg.rf.a0cdb03cbca75c9224048e879c6fe734.jpg', 'cl6b5lfqn0043l455544gg2zx_6_SWIR_jpg.rf.b0ed6f4323584dc306018be2c6d3435f.jpg', 'cl6e30dz3002tgk559uhm11za_1_TRUE_COLOR_jpg.rf.fe685dda58ed1dd4b55f5a9f898e2629.jpg', 'cl6opeibd0071ao55f9t2g6nw_2_FALSE_COLOR_jpg.rf.ab3ee8ccb77b84173db4848b0e45985e.jpg', 'cl6cstc5x00g7l455ec9d32eh_4_FALSE_COLOR__URBAN_jpg.rf.71316a722d62f20ac2358061da63172b.jpg', 'cl6kgj08y002wc455bqfpd8bd_4_FALSE_COLOR__URBAN_jpg.rf.ba5e373a643f637c02f0a7f548617b90.jpg', 'cl6cgk7k600b5l455ceot4yy5_2_FALSE_COLOR_jpg.rf.ca2cce9e38f2a3902ebc19da1dfa4021.jpg', 'cl6opn2ws007hao55es3fg6b2_2_FALSE_COLOR_jpg.rf.46b32a7905e04149be12d5c5098763fd.jpg', 'cl6odyfwh002lao55bnflcuaj_1_TRUE_COLOR_jpg.rf.98f786922f2c57d43d5d72e992fe955c.jpg', 'cl6e30dz3002tgk559uhm11za_4_FALSE_COLOR__URBAN_jpg.rf.0fec58b1d08785f75835c88c38eb6fd2.jpg', 'cl6b5pr1b004kl455bt93cfs2_1_TRUE_COLOR_jpg.rf.70c4211a1b73f64b186de9f165e1c2f6.jpg', 'cl6odwuqk002iao555zzv0c59_2_FALSE_COLOR_jpg.rf.378e24cf0ecebacbb21c214b7f42190a.jpg', 'cl6cs4oof00eul455fdkybwbf_6_SWIR_jpg.rf.964c04ade7796d8262a34460abc501f1.jpg', 'cl6b65ksg0069l455f4od44cb_1_TRUE_COLOR_jpg.rf.3e54d168c45f2d0c7a3f5a70b8e92e20.jpg', 'cl6e2ww4w002lgk555k8x0pjx_2_FALSE_COLOR_jpg.rf.f9f14ac12d5da302ce5a757420a6eeeb.jpg', 'cl6b6o1av007nl455829ah78j_6_SWIR_jpg.rf.a3be7e5b92fba0b57b6ad10afa4a7b03.jpg', 'cl6chu8h100cnl4552hz21fjt_1_TRUE_COLOR_jpg.rf.84f9dde4ff62bdcb2bd99b714e6dd363.jpg', 'cl6opeibd0071ao55f9t2g6nw_1_TRUE_COLOR_jpg.rf.6070362401c95d15c7c1bceb98e721bb.jpg', 'cl6kf256r0006c455hwcv6khh_6_SWIR_jpg.rf.6d50139fb07e7775fe4682d0fd297daf.jpg', 'cl6csstjw00g5l455c618frnq_2_FALSE_COLOR_jpg.rf.ee2c6568a13b760341349677a58ea9dd.jpg', 'cl6ltrgqp002s8w55bwy9c5b4_4_FALSE_COLOR__URBAN_jpg.rf.76fca94ad3eb13cfdb34ef2efdb184ae.jpg', 'cl6ok74u9005oao557sb5dqub_4_FALSE_COLOR__URBAN_jpg.rf.3b9414b029ab4b9cfa4f5aa927740e03.jpg', 'cl6ojbg9t004oao552glqe340_4_FALSE_COLOR__URBAN_jpg.rf.3ee58fb35f1174a1a8e091ccb6b20a36.jpg', 'cl6lt37ph00248w55dnhvff9s_2_FALSE_COLOR_jpg.rf.c96af4afa10719f140a7be3e62c6eaf6.jpg', 'cl6cglp1000b9l4555bzvbgqj_2_FALSE_COLOR_jpg.rf.c9d85326b2931904b8f61462a95e219c.jpg', 'cl6b0cqup000ql4558m8y8a8t_6_SWIR_jpg.rf.31bee1d2a88d85f292323400c332f798.jpg', 'cl6lsxiqd001v8w55fgtjavib_2_FALSE_COLOR_jpg.rf.ed583532db782f8ccd0047e2abe0bee1.jpg', 'cl6chj77t00c7l455c5c08ec6_1_TRUE_COLOR_jpg.rf.54765f5cf2a2e7c9fb3c27aed7fcfd85.jpg', 'cl6b5z6d1005ol45596rf4y2m_2_FALSE_COLOR_jpg.rf.aef45dea5da99c4d13f38dd920910b0b.jpg', 'cl6b5zpnm005rl4554xa7cvp7_2_FALSE_COLOR_jpg.rf.0826a21d562f6355cb7685d1b908b35c.jpg', 'cl6cgtahv00bkl455hcmk9cn1_1_TRUE_COLOR_jpg.rf.f149413852d4d47762f2eb31aec4d9b5.jpg', 'cl6ok1xz8005jao55et1x9ny0_1_TRUE_COLOR_jpg.rf.9558d9b5d898144aa267adad56074770.jpg', 'cl6opc9oz006zao552eyx63jq_1_TRUE_COLOR_jpg.rf.f994921b8a56d2c9d4e28248efa38b8e.jpg', 'cl6e2iu9v0027gk55e8cfax9f_1_TRUE_COLOR_jpg.rf.50314616f0da1821e8666d792d294016.jpg', 'cl6lt6ipg00288w55ee7scu7b_6_SWIR_jpg.rf.217d62e8998857f4cc5ca3a6ad7e5412.jpg', 'cl6oix6p8003xao558gep7jfa_6_SWIR_jpg.rf.9736bdd1879c0e0861072b086ca94dde.jpg', 'cl6csvg6n00gal45513b052pr_1_TRUE_COLOR_jpg.rf.73c176610e2978c450e96527ac568c46.jpg', 'cl6cs7poo00f2l4557i4i86z6_2_FALSE_COLOR_jpg.rf.ef0dfd73530748d094bdd6043bc03479.jpg', 'cl6crtivm00dwl45544k043su_6_SWIR_jpg.rf.dccd495d75c8765ac88d2cf78f453260.jpg', 'cl6odyfwh002lao55bnflcuaj_4_FALSE_COLOR__URBAN_jpg.rf.fa7524a106525288cadb53c1646a3301.jpg', 'cl6b4zqf6001xl455gp6h5ca8_1_TRUE_COLOR_jpg.rf.b98add8863e6743972e03c69a46b54fd.jpg', 'cl6ch6a2n00bxl4554kqu9to4_2_FALSE_COLOR_jpg.rf.7e23a796e2457d80892cfb34288d6040.jpg', 'cl6b6aeiv006rl455ho4ugrkp_4_FALSE_COLOR__URBAN_jpg.rf.7207ace6eadcc7d714db4072c3be13d7.jpg', 'cl6dzjmr4000qhg55bnr2akq0_6_SWIR_jpg.rf.87a3115b9f6bca94d9878bdfcd8d15bc.jpg', 'cl6m145w400368w55e1mscmpe_2_FALSE_COLOR_jpg.rf.c5096bdb36261ea91a23135f4d6af8d0.jpg', 'cl6chkc4400cal4551mau76ln_2_FALSE_COLOR_jpg.rf.b399825fe01934611b6d013886c789f8.jpg', 'cl6odfk31001qao557bfi78e5_6_SWIR_jpg.rf.b860636f6f2b2e71d18a88fadeb8653c.jpg', 'cl6oimia5003dao558osp4mxe_6_SWIR_jpg.rf.e44dbdb6627b06f130e9108440f82ddc.jpg', 'cl6m1cry8003m8w559r91hmtl_6_SWIR_jpg.rf.55bdb1e75817e18fb2d33d73abbacc10.jpg', 'cl6m0pnw5002y8w552btfchke_1_TRUE_COLOR_jpg.rf.de631dd84dbeac65b6d07b19dbea5cc1.jpg', 'cl6ct1fab00gnl455b6a585vi_6_SWIR_jpg.rf.14491e2fe3633bf885fcb9c9e4bf3c4d.jpg', 'cl6lsyw82001x8w55h42v4y3p_4_FALSE_COLOR__URBAN_jpg.rf.0914e7ca9cc3121cdfcc5826401d6673.jpg', 'cl6oif58n002yao5578ob9fzh_4_FALSE_COLOR__URBAN_jpg.rf.67691ceccbbb460202535f17029f706e.jpg', 'cl6oq9ozh008nao5591t079g1_1_TRUE_COLOR_jpg.rf.1309c56d7ff1cdf3a3cdde1ed4ed5cf0.jpg', 'cl6e1nvfl001egk556fa6giz7_2_FALSE_COLOR_jpg.rf.4e679887820ef44a029e11ae93afd1ba.jpg', 'cl6chu8h100cnl4552hz21fjt_6_SWIR_jpg.rf.238718d67a192951afa2f6c0a883ed2d.jpg', 'cl6ct23ww00gql45503oubjmo_4_FALSE_COLOR__URBAN_jpg.rf.819ff7531475c12fcbfad09b043c8378.jpg', 'cl6ct487q00gul455bxvzaopi_2_FALSE_COLOR_jpg.rf.cf80bee753c23a01637a2082944d1bf1.jpg', 'cl6cskwng00fol4555eloc4nh_6_SWIR_jpg.rf.9e3d112de243afb1f67db776073d4d26.jpg', 'cl6kgj08y002wc455bqfpd8bd_6_SWIR_jpg.rf.c68ac9e33aa309a3e14ba984d09ef846.jpg', 'cl6cs4y6q00evl455d2lfbj1u_2_FALSE_COLOR_jpg.rf.54e7aa920ce92da629cdebe0c749850e.jpg', 'cl6oduu28002dao550pgs32ff_2_FALSE_COLOR_jpg.rf.4f51398bc79c4202cd4b4d437dc1dd8a.jpg', 'cl6b58mbx002sl4550bzf0gow_1_TRUE_COLOR_jpg.rf.ad7f4987c00f2b3f54269ded2871b104.jpg', 'cl6b5dekg003el4552wy46fsz_4_FALSE_COLOR__URBAN_jpg.rf.025e0455dad67b91979fecdc00bf453c.jpg', 'cl6kgdzqp002kc455030p44eo_2_FALSE_COLOR_jpg.rf.157fbd858a1b7089c6f75fa68eb8638a.jpg', 'cl6b5f9f1003ml455abwkc72t_1_TRUE_COLOR_jpg.rf.a09c2099ea1a8b50394fb12bfbdb9ea8.jpg', 'cl6kig3wf00098w556e894kgn_4_FALSE_COLOR__URBAN_jpg.rf.ea516150c57a6b8431b3bf32bafab73a.jpg', 'cl6cse9tv00fbl4552j5aepjj_2_FALSE_COLOR_jpg.rf.858fc862940a80171ba1698d549acec2.jpg', 'cl6orpl93009tao552w0p7urd_6_SWIR_jpg.rf.63d6f8c2cc3f097cf78f195f59a80f68.jpg', 'cl6cgr33o00bfl45526e3ajl1_6_SWIR_jpg.rf.3b37ac1a356371984aa7a4c9e26febfa.jpg', 'cl6csdbcu00f9l455hnwh8a4z_2_FALSE_COLOR_jpg.rf.09b3cb4addbc8c8306ad6e8f2806666d.jpg', 'cl6ojevvt004uao55432mcnea_1_TRUE_COLOR_jpg.rf.032b02132beec27d5037247b45908220.jpg', 'cl6b6dmty0071l455668oabtj_4_FALSE_COLOR__URBAN_jpg.rf.3d82e7710651d610b3ed5c22ae907981.jpg', 'cl6b7bt0y009zl455397c4vju_6_SWIR_jpg.rf.bf9ea04cbc437c4c8c4b1a2874e4b65c.jpg', 'cl6kgdfbl002ic45506ui0jbm_2_FALSE_COLOR_jpg.rf.2a2977277d6ac5d86155b8562dcd9aa5.jpg', 'cl6kf256r0006c455hwcv6khh_2_FALSE_COLOR_jpg.rf.1497e932e1406e3360ac61f268d7a02a.jpg', 'cl6chqhwl00cll4558hnj0glz_6_SWIR_jpg.rf.1056e04894280f6c5f84af1ce3f49ad9.jpg', 'cl6opn2ws007hao55es3fg6b2_1_TRUE_COLOR_jpg.rf.9c0199b14bb01d75e444033c204a1893.jpg', 'cl6oqcc63008vao551jrk90jb_1_TRUE_COLOR_jpg.rf.c494c328e46443df2ef5374b08815af3.jpg', 'cl6opzsq7008aao556djk9g0u_2_FALSE_COLOR_jpg.rf.b7e31808bd7352891dd041230b8ad0b9.jpg', 'cl6b6yfhr008il4555h86hokv_2_FALSE_COLOR_jpg.rf.fd50b29fbde8a1c76c3e2d01beb69fa5.jpg', 'cl6b4ykst001sl4550amagaw5_4_FALSE_COLOR__URBAN_jpg.rf.5afbd5165c965cc2f70bd0d10d3c004f.jpg', 'cl6b0aue4000ml455e4wo3e1j_4_FALSE_COLOR__URBAN_jpg.rf.afb389608cf3cd6af6de70e5b1072842.jpg', 'cl6kj4n7o000o8w55eq83czxi_1_TRUE_COLOR_jpg.rf.ed5093deefd129171df94fb32cf9488d.jpg', 'cl6cru4e800dyl455gekch8cy_1_TRUE_COLOR_jpg.rf.e99288a6d88e5afdbbcb05357aec507c.jpg', 'cl6chumom00col4556jyfb7a5_4_FALSE_COLOR__URBAN_jpg.rf.445eef4a54a2beab2c3398d8f64fbcfb.jpg', 'cl6ctgypm00hol455a8epfwn4_6_SWIR_jpg.rf.a7e2f6744b582e10fae84620bcaef311.jpg', 'cl6opu1eb007uao5563tf72vm_2_FALSE_COLOR_jpg.rf.9a87b9a588f285f9fd649d8b4be71abf.jpg', 'cl6dysxe3000ihg5573nzfbsy_6_SWIR_jpg.rf.79e2da02bc62f4f66f2346c01ab4aed8.jpg', 'cl6kfnwqd0015c455cssv4ha4_1_TRUE_COLOR_jpg.rf.dd4a1a9cc9e885b3011de03732c8f204.jpg', 'cl6ocpxm10006ao554w1tf9fa_2_FALSE_COLOR_jpg.rf.4a0eb26253daa0657560787be4b35949.jpg', 'cl6b79f3e009vl455hmyk8e9e_1_TRUE_COLOR_jpg.rf.3011a8be79452c723e8e816eae6c3377.jpg', 'cl6ltphn6002o8w55a78j55fa_2_FALSE_COLOR_jpg.rf.19dd931922851ac71a43e37d7e71cac5.jpg', 'cl6b63ehe0062l455c9mib5xv_4_FALSE_COLOR__URBAN_jpg.rf.b8bc2c6fe6978ca6b05f3a82e157bdbb.jpg', 'cl6m12kpt00358w55c0oah42i_4_FALSE_COLOR__URBAN_jpg.rf.cfe3d51f6e5cf8bf05a95d0300e15d31.jpg', 'cl6b542k6002bl455fmydcwlb_6_SWIR_jpg.rf.8759656fe7d9452fa7f7871f61545f0c.jpg', 'cl6b0q209001jl4553gmg5wxk_2_FALSE_COLOR_jpg.rf.eef8be7fee7165de64be4973c2c58f3e.jpg', 'cl6oq26pe008eao55afu47fi0_4_FALSE_COLOR__URBAN_jpg.rf.6097588c8396a37b074e3444cf333119.jpg', 'cl6op20j8006eao55cw0ucbhh_2_FALSE_COLOR_jpg.rf.a05562a9bcb1ea1a88b6072f2dfcd022.jpg', 'cl6cg820i00ahl45522fwa74p_4_FALSE_COLOR__URBAN_jpg.rf.a65054490c722cb439824fa2a1e395b7.jpg', 'cl6e2xkh0002mgk55aif2aqvo_2_FALSE_COLOR_jpg.rf.0b7ee80fe8e0318db34d8f46d4d9e818.jpg', 'cl6oe04jy002pao551fir09my_6_SWIR_jpg.rf.96178538d47e273395c1d22ff9d52c1f.jpg', 'cl6e06umy000bgk55gkbw1ajq_2_FALSE_COLOR_jpg.rf.96eb006861178f50b3a2a2453346d017.jpg', 'cl6od5fxe001dao55dwsx001s_6_SWIR_jpg.rf.c97b5dc8b3d322980c4e76e626e548c2.jpg', 'cl6b7118q008ol4551ye8g44d_4_FALSE_COLOR__URBAN_jpg.rf.cfa2c6cd2a96d37094600721a31f7d63.jpg', 'cl6kjek5g001a8w5561zp7ddp_1_TRUE_COLOR_jpg.rf.dfa6bbe4b6f1116be7d0a32ac6a9f067.jpg', 'cl6ojaxxv004mao552t7ah2ky_2_FALSE_COLOR_jpg.rf.f75de75121cb3540bbfc52636d8fe45c.jpg', 'cl6csr5tv00g0l45530ayb807_6_SWIR_jpg.rf.7ccfe8079e77c3018c4ac98c973f770e.jpg', 'cl6b5myi60048l45530d5anq4_1_TRUE_COLOR_jpg.rf.1b9e229b9d66a61c1d9a410fd8ad6f23.jpg', 'cl6oplars007eao55fno41dzm_2_FALSE_COLOR_jpg.rf.f92d62150fff9fe3b15615c3a667466b.jpg', 'cl6okf9bk0067ao55bstpe75r_4_FALSE_COLOR__URBAN_jpg.rf.58875e9af78353f15417f1a2e993c734.jpg', 'cl6b7fkmx00a7l455d75h2co1_4_FALSE_COLOR__URBAN_jpg.rf.7a2606b45ea45ee07e66256ce803809e.jpg', 'cl6kjc5r500168w55bry741c1_1_TRUE_COLOR_jpg.rf.0e78281e5d58015651a5a52f16ea2f38.jpg', 'cl6csapmj00f7l4558gne2y5r_4_FALSE_COLOR__URBAN_jpg.rf.15aab82f47702fe22931ed6ac41975c5.jpg', 'cl6ltqjke002q8w55ct7j5tel_6_SWIR_jpg.rf.f8910e03196999a430ba14366da7475c.jpg', 'cl6b51y140022l4551rmyafv5_6_SWIR_jpg.rf.ee4fd9c2f750fde1eaab859f8dd0829d.jpg', 'cl6e2cbgk001tgk5560zhhqm7_4_FALSE_COLOR__URBAN_jpg.rf.25b62006fb08f8d995f34a3c229a08a6.jpg', 'cl6cttw6o00ial4555urs554w_2_FALSE_COLOR_jpg.rf.d92cb74564bf4e1556a74fc7b377e3f2.jpg', 'cl6b652mi0068l4552keu9loj_4_FALSE_COLOR__URBAN_jpg.rf.ac9e5490bef66d3ea06a9270bfbc269e.jpg', 'cl6kfzb24001zc4555e770ib2_4_FALSE_COLOR__URBAN_jpg.rf.13a4747cbfc22ec8cbfc4da014d74e19.jpg', 'cl6oe2d76002tao55ckxpdijl_4_FALSE_COLOR__URBAN_jpg.rf.c3827f2fb99b077435dca2881a756481.jpg', 'cl6b5xjjd005kl455hfjcd5ra_6_SWIR_jpg.rf.7488907fe46984de6c03556760843d6f.jpg', 'cl6opqgtf007nao55d5fr4p16_1_TRUE_COLOR_jpg.rf.a43b59a7f6e036647f1399f76c98eb0f.jpg', 'cl6op6nll006lao553d190xdf_1_TRUE_COLOR_jpg.rf.3692c2f973b3d841abdbd8cb8f5e64dc.jpg', 'cl6odfk31001qao557bfi78e5_2_FALSE_COLOR_jpg.rf.7810f4f897047e39b0c9af3149cb43df.jpg', 'cl6okcs620060ao552j5fd463_1_TRUE_COLOR_jpg.rf.b00939415cb2ad0885a00096b525a2ff.jpg', 'cl6cs6mgj00f0l455egwshib7_1_TRUE_COLOR_jpg.rf.d1ab74c84059de9049a6e2af79eddc96.jpg', 'cl6b09m65000kl455dbrteofg_1_TRUE_COLOR_jpg.rf.ee57729ea078971520bf21366b934b08.jpg', 'cl6kgidey002uc455a3qe2ark_2_FALSE_COLOR_jpg.rf.7cc096454a709be2752b04fa230befae.jpg', 'cl6csapmj00f7l4558gne2y5r_2_FALSE_COLOR_jpg.rf.7d74755e63ae57fc0bae665bbed9f786.jpg', 'cl6ojycgj005bao557mc6afad_1_TRUE_COLOR_jpg.rf.2fff76c1eed44062f407660384acdddb.jpg', 'cl6cgwlv800bol4557nsq5jwk_4_FALSE_COLOR__URBAN_jpg.rf.b96336e560cb8e2b952def4e617218e4.jpg', 'cl6oj8w06004hao558ky44xei_6_SWIR_jpg.rf.a5899ccda47be15f003449d3d880a9da.jpg', 'cl6lt2g2y00228w55cf1a1yxr_2_FALSE_COLOR_jpg.rf.36efe84e8bb672989f589aad86e98108.jpg', 'cl6odbryt001nao55htogdny9_6_SWIR_jpg.rf.b942f1a9027fe10d1f702fa0daae70f7.jpg', 'cl6b58d1y002rl4558379g2db_6_SWIR_jpg.rf.d2c130e5f22d952b133056e4c484fdd9.jpg', 'cl6b03yzy0005l455dq6x4eyc_6_SWIR_jpg.rf.74830a185e1fe1400cba89794ee1ef0d.jpg', 'cl6ocys2m000sao5550mof7nx_1_TRUE_COLOR_jpg.rf.8e3581559100c209cd75fd81f38e072b.jpg', 'cl6b6y193008fl455chyoaarb_4_FALSE_COLOR__URBAN_jpg.rf.18928a3e681add214cf26beb7dc5790c.jpg', 'cl6e3bzkq003kgk550ppl67ww_4_FALSE_COLOR__URBAN_jpg.rf.f8307953fb5b60d10c4919d45923571c.jpg', 'cl6b79rs5009wl4550jbyddo9_1_TRUE_COLOR_jpg.rf.891016298b1ec3cfd5e9ecd20bddb54c.jpg', 'cl6b5yjxa005nl45516k465kb_1_TRUE_COLOR_jpg.rf.ce6cbfd628838b1c87ffdbb637919aa9.jpg', 'cl6cteplg00hkl4551scr5fko_1_TRUE_COLOR_jpg.rf.8236949c672c9a0614f29946c7a3215c.jpg', 'cl6b652mi0068l4552keu9loj_6_SWIR_jpg.rf.1139087fcfdd2c71aca1e08ba169c124.jpg', 'cl6kjhhl5001h8w55fo1v1vqs_1_TRUE_COLOR_jpg.rf.188c382d5e6f2f64671fb1473f391d17.jpg']\n"
     ]
    },
    {
     "data": {
      "application/vnd.microsoft.datawrangler.viewer.v0+json": {
       "columns": [
        {
         "name": "index",
         "rawType": "int64",
         "type": "integer"
        },
        {
         "name": "id",
         "rawType": "int64",
         "type": "integer"
        },
        {
         "name": "file_name",
         "rawType": "object",
         "type": "string"
        }
       ],
       "ref": "07e777ff-e0ef-422e-a57f-00186c473214",
       "rows": [
        [
         "0",
         "0",
         "cl6e1qges001kgk555z158f33_2_FALSE_COLOR_jpg.rf.479904c9e54c6ba121689341598bf3ed.jpg"
        ],
        [
         "1",
         "1",
         "cl6kgm9qr002yc455g5qs87kz_2_FALSE_COLOR_jpg.rf.95debd80b7509cc0a6afe0a7c7ff6cfe.jpg"
        ],
        [
         "2",
         "3",
         "cl6b6pieh007rl455fwvb73gr_1_TRUE_COLOR_jpg.rf.8f3f9c84272e40682f7f430cdc4ac4c0.jpg"
        ],
        [
         "3",
         "4",
         "cl6b5k38g003zl455bgtd1317_4_FALSE_COLOR__URBAN_jpg.rf.fcaa4827b85c1b38fdedffcd6a3b098f.jpg"
        ],
        [
         "4",
         "5",
         "cl6cswt5400gdl4554rn2gjz9_1_TRUE_COLOR_jpg.rf.e410a3d52182432dc9d14d9b24b69cb0.jpg"
        ]
       ],
       "shape": {
        "columns": 2,
        "rows": 5
       }
      },
      "text/html": [
       "<div>\n",
       "<style scoped>\n",
       "    .dataframe tbody tr th:only-of-type {\n",
       "        vertical-align: middle;\n",
       "    }\n",
       "\n",
       "    .dataframe tbody tr th {\n",
       "        vertical-align: top;\n",
       "    }\n",
       "\n",
       "    .dataframe thead th {\n",
       "        text-align: right;\n",
       "    }\n",
       "</style>\n",
       "<table border=\"1\" class=\"dataframe\">\n",
       "  <thead>\n",
       "    <tr style=\"text-align: right;\">\n",
       "      <th></th>\n",
       "      <th>id</th>\n",
       "      <th>file_name</th>\n",
       "    </tr>\n",
       "  </thead>\n",
       "  <tbody>\n",
       "    <tr>\n",
       "      <th>0</th>\n",
       "      <td>0</td>\n",
       "      <td>cl6e1qges001kgk555z158f33_2_FALSE_COLOR_jpg.rf...</td>\n",
       "    </tr>\n",
       "    <tr>\n",
       "      <th>1</th>\n",
       "      <td>1</td>\n",
       "      <td>cl6kgm9qr002yc455g5qs87kz_2_FALSE_COLOR_jpg.rf...</td>\n",
       "    </tr>\n",
       "    <tr>\n",
       "      <th>2</th>\n",
       "      <td>3</td>\n",
       "      <td>cl6b6pieh007rl455fwvb73gr_1_TRUE_COLOR_jpg.rf....</td>\n",
       "    </tr>\n",
       "    <tr>\n",
       "      <th>3</th>\n",
       "      <td>4</td>\n",
       "      <td>cl6b5k38g003zl455bgtd1317_4_FALSE_COLOR__URBAN...</td>\n",
       "    </tr>\n",
       "    <tr>\n",
       "      <th>4</th>\n",
       "      <td>5</td>\n",
       "      <td>cl6cswt5400gdl4554rn2gjz9_1_TRUE_COLOR_jpg.rf....</td>\n",
       "    </tr>\n",
       "  </tbody>\n",
       "</table>\n",
       "</div>"
      ],
      "text/plain": [
       "   id                                          file_name\n",
       "0   0  cl6e1qges001kgk555z158f33_2_FALSE_COLOR_jpg.rf...\n",
       "1   1  cl6kgm9qr002yc455g5qs87kz_2_FALSE_COLOR_jpg.rf...\n",
       "2   3  cl6b6pieh007rl455fwvb73gr_1_TRUE_COLOR_jpg.rf....\n",
       "3   4  cl6b5k38g003zl455bgtd1317_4_FALSE_COLOR__URBAN...\n",
       "4   5  cl6cswt5400gdl4554rn2gjz9_1_TRUE_COLOR_jpg.rf...."
      ]
     },
     "metadata": {},
     "output_type": "display_data"
    }
   ],
   "source": [
    "# 4.2 Images avec annotations partielles ---\n",
    "\n",
    "from collections import Counter\n",
    "\n",
    "def images_with_partial_annotations(coco_data, min_annotations=1):\n",
    "    \"\"\"\n",
    "    Retourne les images qui ont moins que 'min_annotations' annotations.\n",
    "    \n",
    "    Args:\n",
    "        coco_data (dict): Les données COCO.\n",
    "        min_annotations (int): Nombre minimum d'annotations pour considérer qu'une image est complète.\n",
    "        \n",
    "    Returns:\n",
    "        List[dict]: Liste des images avec annotations partielles.\n",
    "    \"\"\"\n",
    "    # Compter les annotations par image\n",
    "    img_count = Counter([ann['image_id'] for ann in coco_data['annotations']])\n",
    "    \n",
    "    # Filtrer les images avec moins de min_annotations\n",
    "    partial_images = [img for img in coco_data['images'] if img_count.get(img['id'], 0) < min_annotations]\n",
    "    \n",
    "    return partial_images\n",
    "\n",
    "\n",
    "# Images avec moins de 3 annotations\n",
    "images_less_3 = images_with_partial_annotations(coco_data, min_annotations=3)\n",
    "print(f\"Nombre d'images avec moins de 3 annotations : {len(images_less_3)}\")\n",
    "print([img['file_name'] for img in images_less_3])\n",
    "import pandas as pd\n",
    "display(pd.DataFrame(images_less_3)[['id', 'file_name']].head())  # les noms de fichiers des images avec moins de 3 annotations"
   ]
  },
  {
   "cell_type": "code",
   "execution_count": 7,
   "id": "48b958cc",
   "metadata": {},
   "outputs": [
    {
     "name": "stdout",
     "output_type": "stream",
     "text": [
      "Annotations sans image : 0\n",
      "Empty DataFrame\n",
      "Columns: [id, image_id, category_id, bbox, area, segmentation, iscrowd]\n",
      "Index: []\n"
     ]
    }
   ],
   "source": [
    "\n",
    "# 3 Annotations sans image correspondante\n",
    "annotations_no_image = annotations_df[~annotations_df['image_id'].isin(images_df['id'])]\n",
    "print(\"Annotations sans image :\", len(annotations_no_image))\n",
    "print(annotations_no_image.head())"
   ]
  },
  {
   "cell_type": "code",
   "execution_count": 8,
   "id": "6572c3d4",
   "metadata": {},
   "outputs": [
    {
     "name": "stdout",
     "output_type": "stream",
     "text": [
      "Nombre de bounding boxes hors limites : 44\n"
     ]
    },
    {
     "data": {
      "application/vnd.microsoft.datawrangler.viewer.v0+json": {
       "columns": [
        {
         "name": "index",
         "rawType": "int64",
         "type": "integer"
        },
        {
         "name": "image_id",
         "rawType": "int64",
         "type": "integer"
        },
        {
         "name": "bbox",
         "rawType": "object",
         "type": "unknown"
        },
        {
         "name": "width",
         "rawType": "int64",
         "type": "integer"
        },
        {
         "name": "height",
         "rawType": "int64",
         "type": "integer"
        },
        {
         "name": "x_min",
         "rawType": "int64",
         "type": "integer"
        },
        {
         "name": "y_min",
         "rawType": "int64",
         "type": "integer"
        },
        {
         "name": "x_max",
         "rawType": "float64",
         "type": "float"
        },
        {
         "name": "y_max",
         "rawType": "float64",
         "type": "float"
        }
       ],
       "ref": "5774b683-65dc-4f35-9fea-c3e1d85ee07f",
       "rows": [
        [
         "51",
         "25",
         "[922, 677, 278.29, 183.13]",
         "1200",
         "860",
         "922",
         "677",
         "1200.29",
         "860.13"
        ],
        [
         "82",
         "43",
         "[1129, 357, 71.06, 93.99]",
         "1200",
         "860",
         "1129",
         "357",
         "1200.06",
         "450.99"
        ],
        [
         "102",
         "50",
         "[549, 736, 425.24, 124.33]",
         "1200",
         "860",
         "549",
         "736",
         "974.24",
         "860.33"
        ],
        [
         "105",
         "52",
         "[864, 562, 336.06, 251.45]",
         "1200",
         "860",
         "864",
         "562",
         "1200.06",
         "813.45"
        ],
        [
         "112",
         "55",
         "[512, 569, 144.66, 291.25]",
         "1200",
         "860",
         "512",
         "569",
         "656.66",
         "860.25"
        ]
       ],
       "shape": {
        "columns": 8,
        "rows": 5
       }
      },
      "text/html": [
       "<div>\n",
       "<style scoped>\n",
       "    .dataframe tbody tr th:only-of-type {\n",
       "        vertical-align: middle;\n",
       "    }\n",
       "\n",
       "    .dataframe tbody tr th {\n",
       "        vertical-align: top;\n",
       "    }\n",
       "\n",
       "    .dataframe thead th {\n",
       "        text-align: right;\n",
       "    }\n",
       "</style>\n",
       "<table border=\"1\" class=\"dataframe\">\n",
       "  <thead>\n",
       "    <tr style=\"text-align: right;\">\n",
       "      <th></th>\n",
       "      <th>image_id</th>\n",
       "      <th>bbox</th>\n",
       "      <th>width</th>\n",
       "      <th>height</th>\n",
       "      <th>x_min</th>\n",
       "      <th>y_min</th>\n",
       "      <th>x_max</th>\n",
       "      <th>y_max</th>\n",
       "    </tr>\n",
       "  </thead>\n",
       "  <tbody>\n",
       "    <tr>\n",
       "      <th>51</th>\n",
       "      <td>25</td>\n",
       "      <td>[922, 677, 278.29, 183.13]</td>\n",
       "      <td>1200</td>\n",
       "      <td>860</td>\n",
       "      <td>922</td>\n",
       "      <td>677</td>\n",
       "      <td>1200.29</td>\n",
       "      <td>860.13</td>\n",
       "    </tr>\n",
       "    <tr>\n",
       "      <th>82</th>\n",
       "      <td>43</td>\n",
       "      <td>[1129, 357, 71.06, 93.99]</td>\n",
       "      <td>1200</td>\n",
       "      <td>860</td>\n",
       "      <td>1129</td>\n",
       "      <td>357</td>\n",
       "      <td>1200.06</td>\n",
       "      <td>450.99</td>\n",
       "    </tr>\n",
       "    <tr>\n",
       "      <th>102</th>\n",
       "      <td>50</td>\n",
       "      <td>[549, 736, 425.24, 124.33]</td>\n",
       "      <td>1200</td>\n",
       "      <td>860</td>\n",
       "      <td>549</td>\n",
       "      <td>736</td>\n",
       "      <td>974.24</td>\n",
       "      <td>860.33</td>\n",
       "    </tr>\n",
       "    <tr>\n",
       "      <th>105</th>\n",
       "      <td>52</td>\n",
       "      <td>[864, 562, 336.06, 251.45]</td>\n",
       "      <td>1200</td>\n",
       "      <td>860</td>\n",
       "      <td>864</td>\n",
       "      <td>562</td>\n",
       "      <td>1200.06</td>\n",
       "      <td>813.45</td>\n",
       "    </tr>\n",
       "    <tr>\n",
       "      <th>112</th>\n",
       "      <td>55</td>\n",
       "      <td>[512, 569, 144.66, 291.25]</td>\n",
       "      <td>1200</td>\n",
       "      <td>860</td>\n",
       "      <td>512</td>\n",
       "      <td>569</td>\n",
       "      <td>656.66</td>\n",
       "      <td>860.25</td>\n",
       "    </tr>\n",
       "  </tbody>\n",
       "</table>\n",
       "</div>"
      ],
      "text/plain": [
       "     image_id                        bbox  width  height  x_min  y_min  \\\n",
       "51         25  [922, 677, 278.29, 183.13]   1200     860    922    677   \n",
       "82         43   [1129, 357, 71.06, 93.99]   1200     860   1129    357   \n",
       "102        50  [549, 736, 425.24, 124.33]   1200     860    549    736   \n",
       "105        52  [864, 562, 336.06, 251.45]   1200     860    864    562   \n",
       "112        55  [512, 569, 144.66, 291.25]   1200     860    512    569   \n",
       "\n",
       "       x_max   y_max  \n",
       "51   1200.29  860.13  \n",
       "82   1200.06  450.99  \n",
       "102   974.24  860.33  \n",
       "105  1200.06  813.45  \n",
       "112   656.66  860.25  "
      ]
     },
     "metadata": {},
     "output_type": "display_data"
    }
   ],
   "source": [
    "# 4 Vérification des bounding boxes hors limites des images\n",
    "\n",
    "# Joindre annotations avec infos images (pour avoir width/height)\n",
    "ann_with_img = annotations_df.merge(\n",
    "    images_df[[\"id\", \"width\", \"height\"]],\n",
    "    left_on=\"image_id\",\n",
    "    right_on=\"id\",\n",
    "    suffixes=(\"_ann\", \"_img\")\n",
    ")\n",
    "\n",
    "# Extraire les coordonnées bbox\n",
    "ann_with_img[\"x_min\"] = ann_with_img[\"bbox\"].apply(lambda b: b[0])\n",
    "ann_with_img[\"y_min\"] = ann_with_img[\"bbox\"].apply(lambda b: b[1])\n",
    "ann_with_img[\"x_max\"] = ann_with_img.apply(lambda row: row[\"bbox\"][0] + row[\"bbox\"][2], axis=1)\n",
    "ann_with_img[\"y_max\"] = ann_with_img.apply(lambda row: row[\"bbox\"][1] + row[\"bbox\"][3], axis=1)\n",
    "\n",
    "# Vérification des conditions\n",
    "invalid_bboxes = ann_with_img[\n",
    "    (ann_with_img[\"x_min\"] < 0) |\n",
    "    (ann_with_img[\"y_min\"] < 0) |\n",
    "    (ann_with_img[\"x_max\"] > ann_with_img[\"width\"]) |\n",
    "    (ann_with_img[\"y_max\"] > ann_with_img[\"height\"])\n",
    "]\n",
    "\n",
    "print(\"Nombre de bounding boxes hors limites :\", len(invalid_bboxes))\n",
    "if len(invalid_bboxes) > 0:\n",
    "    display(invalid_bboxes[[\"image_id\", \"bbox\", \"width\", \"height\", \"x_min\", \"y_min\", \"x_max\", \"y_max\"]].head())\n",
    "else:\n",
    "    print(\" Toutes les bounding boxes sont bien à l'intérieur des images.\")\n"
   ]
  },
  {
   "cell_type": "code",
   "execution_count": 9,
   "id": "d4871d17",
   "metadata": {},
   "outputs": [
    {
     "name": "stdout",
     "output_type": "stream",
     "text": [
      "Nombre d'annotations dupliquées : 0\n",
      " Aucune annotation dupliquée détectée.\n"
     ]
    }
   ],
   "source": [
    "# 5 Détection de doublons\n",
    "\n",
    "# Convertir la colonne bbox (list) en tuple pour permettre la détection de doublons\n",
    "annotations_df['bbox_tuple'] = annotations_df['bbox'].apply(tuple)\n",
    "\n",
    "# Identifier les doublons basés sur image_id, bbox_tuple et category_id\n",
    "duplicates = annotations_df[annotations_df.duplicated(subset=[\"image_id\", \"bbox_tuple\", \"category_id\"], keep=False)]\n",
    "\n",
    "print(\"Nombre d'annotations dupliquées :\", len(duplicates))\n",
    "if len(duplicates) > 0:\n",
    "    display(duplicates.sort_values([\"image_id\", \"category_id\"]).head(10))\n",
    "else:\n",
    "    print(\" Aucune annotation dupliquée détectée.\")\n"
   ]
  },
  {
   "cell_type": "markdown",
   "id": "49bbf88e",
   "metadata": {},
   "source": [
    "## 5️⃣ Visualisation\n",
    "- Vérification visuelle de la cohérence entre images et annotations\n"
   ]
  },
  {
   "cell_type": "markdown",
   "id": "222025fe",
   "metadata": {},
   "source": [
    "### 5/1 : Répartition des images selon les annotations  \n",
    "\n",
    "**But :** Identifier la proportion d’images bien annotées, partiellement annotées et sans annotations, afin de décider si certaines doivent être supprimées ou corrigées.  \n"
   ]
  },
  {
   "cell_type": "code",
   "execution_count": 10,
   "id": "4e8cdc07",
   "metadata": {},
   "outputs": [
    {
     "data": {
      "image/png": "[encoded data removed]",
      "text/plain": [
       "<Figure size 500x500 with 1 Axes>"
      ]
     },
     "metadata": {},
     "output_type": "display_data"
    }
   ],
   "source": [
    "# 5.1.1 Proportion des images avec/sans annotations\n",
    "import matplotlib.pyplot as plt\n",
    "with_ann = len(images_df) - len(images_no_annotations)\n",
    "without_ann = len(images_no_annotations)\n",
    "\n",
    "plt.figure(figsize=(5,5))\n",
    "plt.pie([with_ann, without_ann], labels=[\"Avec annotations\", \"Sans annotations\"],\n",
    "        autopct=\"%1.1f%%\", colors=[\"#66c2a5\", \"#fc8d62\"])\n",
    "plt.title(\"Proportion des images avec/sans annotations\")\n",
    "plt.show()"
   ]
  },
  {
   "cell_type": "code",
   "execution_count": 11,
   "id": "8fc1ef1c",
   "metadata": {},
   "outputs": [
    {
     "data": {
      "image/png": "[encoded data removed]",
      "text/plain": [
       "<Figure size 600x600 with 1 Axes>"
      ]
     },
     "metadata": {},
     "output_type": "display_data"
    }
   ],
   "source": [
    "#5.1.2 Proportion des images selon leur niveau d’annotations\n",
    "# Comptages \n",
    "with_ann = len(images_df) - len(images_no_annotations)\n",
    "without_ann = len(images_no_annotations)\n",
    "partial_ann = len(images_less_3)   \n",
    "\n",
    "# Graphique\n",
    "plt.figure(figsize=(6,6))\n",
    "plt.pie(\n",
    "    [with_ann - partial_ann, partial_ann, without_ann], \n",
    "    labels=[\"Bien annotées (≥3)\", \"Partiellement annotées (<3)\", \"Sans annotations\"],\n",
    "    autopct=\"%1.1f%%\", \n",
    "    colors=[\"#66c2a5\", \"#ffd92f\", \"#fc8d62\"]\n",
    ")\n",
    "plt.title(\"Proportion des images selon leur niveau d’annotations\")\n",
    "plt.show()\n"
   ]
  },
  {
   "cell_type": "code",
   "execution_count": 12,
   "id": "34a8a8f4",
   "metadata": {},
   "outputs": [
    {
     "name": "stdout",
     "output_type": "stream",
     "text": [
      "Nombre d’images manquantes : 7\n",
      "['cl6e1qges001kgk555z158f33_2_FALSE_COLOR_jpg.rf.479904c9e54c6ba121689341598bf3ed.jpg', 'cl6kf5xzo000gc4552qc8hhcc_2_FALSE_COLOR_jpg.rf.8fbfb16c6d86076d860904397218acd5.jpg', 'cl6e2kygp002egk55asrs2brz_1_TRUE_COLOR_jpg.rf.2a198a37785242fb6db3ef21c0ffdcad.jpg', 'cl6e3enfn003sgk554uim9wo6_1_TRUE_COLOR_jpg.rf.beaf169c01f4596cb24c1c4628ef21f1.jpg', 'cl6kfx47x001tc45578ts0yz6_2_FALSE_COLOR_jpg.rf.5a9501946306fabdad807a6acb61ccbe.jpg', 'cl6b5x63r005il4551chxdt93_2_FALSE_COLOR_jpg.rf.8c4fb06b6812031edb1ad781ec14d2b9.jpg', 'cl6b5myi60048l45530d5anq4_1_TRUE_COLOR_jpg.rf.1b9e229b9d66a61c1d9a410fd8ad6f23.jpg']\n"
     ]
    }
   ],
   "source": [
    "import os\n",
    "\n",
    "missing_files = [\n",
    "    f for f in images_df[\"file_name\"]\n",
    "    if not os.path.exists(os.path.join(\"data/images\", f))\n",
    "]\n",
    "print(\"Nombre d’images manquantes :\", len(missing_files))\n",
    "print(missing_files[:10])"
   ]
  },
  {
   "cell_type": "markdown",
   "id": "0ba84af4",
   "metadata": {},
   "source": [
    "## 6️⃣ Nettoyage et préparation\n",
    "Lors de l’exploration, plusieurs problèmes ont été identifiés :  \n",
    "- **Images sans annotations** (7 cas) → inutilisables, donc on peut le supprimées.  \n",
    "- **Images avec moins de 3 annotations** (386 cas) → choix de les conserver pour éviter une perte trop importante de données.  \n",
    "- **Bounding boxes invalides (hors limites)** on a  choisi de **corriger les coordonnées** des bbox (clip aux dimensions de l’image). pour  conserver un maximum de données valides tout en garantissant la cohérence géométrique.  \n",
    "\n",
    "**Justification du choix :**  \n",
    "L’approche adoptée privilégie la **conservation maximale** des données utiles.\n"
   ]
  },
  {
   "cell_type": "markdown",
   "id": "c1f0b734",
   "metadata": {},
   "source": [
    "On a 44 bbox invalides (x_max ou y_max qui dépassent la taille de l’image).\n",
    "La solution est de clipper (recadrer) les bbox à l’intérieur de l’image, pour eviter de les supprimer les annotations."
   ]
  },
  {
   "cell_type": "code",
   "execution_count": 13,
   "id": "2ce1c652",
   "metadata": {},
   "outputs": [],
   "source": [
    "#  1 : Supprimer les images sans annotations \n",
    "def remove_images_without_annotations(images_df, annotations_df, images_folder):\n",
    "    \"\"\"\n",
    "    Supprime du dataset les images qui n'ont aucune annotation associée.\n",
    "\n",
    "    Choix :\n",
    "    ----------\n",
    "    - Une image sans annotation n’apporte aucune information pour l’entraînement.\n",
    "    - On supprime aussi le fichier image correspondant pour garder le dossier cohérent.\n",
    "\n",
    "    Paramètres :\n",
    "    ------------\n",
    "    images_df : pd.DataFrame\n",
    "        Métadonnées des images (id, file_name, width, height).\n",
    "    annotations_df : pd.DataFrame\n",
    "        Annotations (image_id, bbox, etc.).\n",
    "    images_folder : str\n",
    "        Dossier contenant les images.\n",
    "\n",
    "    Retour :\n",
    "    --------\n",
    "    images_df : pd.DataFrame\n",
    "        DataFrame nettoyé contenant uniquement les images avec annotations.\n",
    "    \"\"\"\n",
    "    images_with_annotations = annotations_df['image_id'].unique()\n",
    "    images_to_remove = images_df[~images_df['id'].isin(images_with_annotations)]\n",
    "\n",
    "    print(f\"[INFO] {len(images_to_remove)} images supprimées (sans annotations)\")\n",
    "\n",
    "    for _, row in images_to_remove.iterrows():\n",
    "        img_path = os.path.join(images_folder, row['file_name'])\n",
    "        if os.path.exists(img_path):\n",
    "            os.remove(img_path)\n",
    "\n",
    "    images_df = images_df[images_df['id'].isin(images_with_annotations)]\n",
    "    return images_df\n"
   ]
  },
  {
   "cell_type": "code",
   "execution_count": 14,
   "id": "0158ae59",
   "metadata": {},
   "outputs": [],
   "source": [
    "# 2 : Corriger les bounding boxes hors limites \n",
    "def fix_bbox(row, img_w, img_h):\n",
    "    \"\"\"\n",
    "    Corrige une bounding box pour qu'elle soit contenue dans les dimensions de l’image.\n",
    "    \"\"\"\n",
    "    x, y, w, h = row['bbox']\n",
    "    x_max = min(x + w, img_w)\n",
    "    y_max = min(y + h, img_h)\n",
    "    x = max(x, 0)\n",
    "    y = max(y, 0)\n",
    "    w = max(1, x_max - x)\n",
    "    h = max(1, y_max - y)\n",
    "    return [x, y, w, h]\n",
    "\n",
    "def correct_bboxes(images_df, annotations_df):\n",
    "    \"\"\"\n",
    "    Corrige toutes les bounding boxes pour éviter les dépassements hors de l’image.\n",
    "\n",
    "    Choix :\n",
    "    ----------\n",
    "    - Certaines annotations peuvent dépasser les bords (erreurs humaines ou bugs).\n",
    "    - On force chaque bbox à rester dans l’image pour éviter des erreurs de training.\n",
    "\n",
    "    Retour :\n",
    "    --------\n",
    "    annotations_df : pd.DataFrame corrigé\n",
    "    \"\"\"\n",
    "    annotations_fixed = []\n",
    "    corrected = 0\n",
    "    for _, ann in annotations_df.iterrows():\n",
    "        img_info = images_df.loc[images_df['id'] == ann['image_id']]\n",
    "        if not img_info.empty:\n",
    "            img_w = img_info['width'].values[0]\n",
    "            img_h = img_info['height'].values[0]\n",
    "            old_bbox = ann['bbox']\n",
    "            ann['bbox'] = fix_bbox(ann, img_w, img_h)\n",
    "            if ann['bbox'] != old_bbox:\n",
    "                corrected += 1\n",
    "        annotations_fixed.append(ann)\n",
    "    \n",
    "    print(f\"[INFO] {corrected} bounding boxes corrigées\")\n",
    "    return pd.DataFrame(annotations_fixed)"
   ]
  },
  {
   "cell_type": "code",
   "execution_count": 15,
   "id": "b95219e0",
   "metadata": {},
   "outputs": [
    {
     "name": "stdout",
     "output_type": "stream",
     "text": [
      "[START] Nettoyage du dataset...\n",
      "[INFO] 7 images supprimées (sans annotations)\n",
      "[INFO] 695 bounding boxes corrigées\n",
      "[END] Nettoyage terminé \n"
     ]
    }
   ],
   "source": [
    "# 4 : Pipeline global pour nettoyer le dataset\n",
    "def clean_dataset(images_df, annotations_df, images_folder, min_annotations=3):\n",
    "    \"\"\"\n",
    "    Pipeline complet de nettoyage :\n",
    "    1. Supprimer les images sans annotations\n",
    "    2. Corriger les bounding boxes hors limites\n",
    "    (Pas de suppression selon min_annotations car dataset petit)\n",
    "    \"\"\"\n",
    "    print(\"[START] Nettoyage du dataset...\")\n",
    "    images_df = remove_images_without_annotations(images_df, annotations_df, images_folder)\n",
    "    annotations_df = correct_bboxes(images_df, annotations_df)\n",
    "    print(\"[END] Nettoyage terminé \")\n",
    "    return images_df, annotations_df\n",
    "\n",
    "\n",
    "# Exemple d’utilisation\n",
    "images_df_clean, annotations_df_clean = clean_dataset(\n",
    "    images_df, annotations_df, \"data/images\"\n",
    ")"
   ]
  },
  {
   "cell_type": "markdown",
   "id": "09e917ad",
   "metadata": {},
   "source": [
    "## 7️⃣ Tests\n",
    "- Tester les fonctions d’exploration et de nettoyage sur quelques images/annotations\n",
    "- Préparer les tests unitaires pour `data_explorer.py` et `data_cleaner.py`"
   ]
  }
 ],
 "metadata": {
  "kernelspec": {
   "display_name": ".venv",
   "language": "python",
   "name": "python3"
  },
  "language_info": {
   "codemirror_mode": {
    "name": "ipython",
    "version": 3
   },
   "file_extension": ".py",
   "mimetype": "text/x-python",
   "name": "python",
   "nbconvert_exporter": "python",
   "pygments_lexer": "ipython3",
   "version": "3.12.3"
  }
 },
 "nbformat": 4,
 "nbformat_minor": 5
}
